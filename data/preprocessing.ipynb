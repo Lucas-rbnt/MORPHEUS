{
 "cells": [
  {
   "cell_type": "code",
   "execution_count": 10,
   "id": "f065c657-cf3e-464e-a4af-3405741ca33f",
   "metadata": {},
   "outputs": [],
   "source": [
    "# import dependencies\n",
    "import pandas as pd\n",
    "import numpy as np\n",
    "import json\n",
    "import os\n",
    "import requests\n",
    "import io\n",
    "from sklearn.model_selection import train_test_split, KFold\n",
    "import tqdm\n",
    "import h5py"
   ]
  },
  {
   "cell_type": "code",
   "execution_count": null,
   "id": "58d1ca62",
   "metadata": {},
   "outputs": [],
   "source": [
    "base_path_wsi = '/your/wsi/path'"
   ]
  },
  {
   "cell_type": "code",
   "execution_count": 2,
   "id": "977011c3-b592-4885-859e-90c12e7c4951",
   "metadata": {},
   "outputs": [],
   "source": [
    "# helpers function\n",
    "\n",
    "def request_file_info(data_type):\n",
    "    fields = [\n",
    "        'file_name',\n",
    "        'cases.submitter_id',\n",
    "        'cases.samples.sample_type',\n",
    "        'cases.project.project_id',\n",
    "        'cases.project.primary_site',\n",
    "        ]\n",
    "\n",
    "    fields = ','.join(fields)\n",
    "\n",
    "    files_endpt = 'https://api.gdc.cancer.gov/files'\n",
    "\n",
    "    filters = {\n",
    "        'op': 'and',\n",
    "        'content':[\n",
    "            {\n",
    "            'op': 'in',\n",
    "            'content':{\n",
    "                'field': 'files.experimental_strategy',\n",
    "                'value': [data_type]\n",
    "                }\n",
    "            }\n",
    "        ]\n",
    "    }\n",
    "\n",
    "    params = {\n",
    "        'filters': filters,\n",
    "        'fields': fields,\n",
    "        'format': 'TSV',\n",
    "        'size': '2000000'\n",
    "        }\n",
    "\n",
    "    response = requests.post(files_endpt, headers = {'Content-Type': 'application/json'}, json = params)\n",
    "\n",
    "    return pd.read_csv(io.StringIO(response.content.decode('utf-8')), sep='\\t')"
   ]
  },
  {
   "cell_type": "code",
   "execution_count": 3,
   "id": "7337599a-a5b4-440f-8ec2-620e78591487",
   "metadata": {},
   "outputs": [],
   "source": [
    "def make_patient_file_map(df, base_dir):\n",
    "    \"\"\"\n",
    "    Adapted from Vale-Silva's preprocessing.\n",
    "    \"\"\"\n",
    "    \n",
    "    d = {}\n",
    "    for _, row in df.iterrows():\n",
    "        patient = row['cases.0.submitter_id']\n",
    "        if os.path.exists(os.path.join(base_dir, row.id, row.file_name)):\n",
    "            if patient in d:\n",
    "                if not isinstance(d[patient], tuple):\n",
    "                    d[patient] = (\n",
    "                        d[patient],\n",
    "                        os.path.join(base_dir, row.id, row.file_name))\n",
    "                else:\n",
    "                    d[patient] += os.path.join(base_dir, row.id, row.file_name),\n",
    "            else:\n",
    "                d[patient] = os.path.join(base_dir, row.id, row.file_name)\n",
    "\n",
    "    return d"
   ]
  },
  {
   "cell_type": "code",
   "execution_count": 4,
   "id": "5f888b17-21ea-4534-997d-7da5046586c2",
   "metadata": {},
   "outputs": [],
   "source": [
    "def get_n_patches(x):\n",
    "    with h5py.File(x, \"r\") as f:\n",
    "        n_patch = f[\"coords\"].shape[1]\n",
    "\n",
    "    return n_patch\n",
    "\n",
    "\n",
    "def select_primary(df_group):\n",
    "    #prioritize the first \"Primary tumor\" if available\n",
    "    primary_tumors = df_group[df_group['cases.0.samples.0.sample_type'] == \"Primary Tumor\"]\n",
    "    if not primary_tumors.empty:\n",
    "        return primary_tumors.iloc[0]  # Take the first occurrence of \"Primary tumor\"\n",
    "    else:\n",
    "        return df_group.iloc[0]  # Otherwise, take the first row"
   ]
  },
  {
   "cell_type": "markdown",
   "id": "6967ea3e-cafb-4a4e-b557-6d1ac874a91b",
   "metadata": {},
   "source": [
    "# 2. Clinical Data <a name=\"p2\"></a> \n",
    "Everything related to the preparation of the clinical dataframe is listed below."
   ]
  },
  {
   "cell_type": "code",
   "execution_count": 5,
   "id": "1526b2d9-4429-4d9f-82fa-b84f90103bb8",
   "metadata": {},
   "outputs": [],
   "source": [
    "clinical = pd.read_csv('files/clinical.tsv', sep='\\t')"
   ]
  },
  {
   "cell_type": "code",
   "execution_count": 6,
   "id": "c81480ab-c359-4be1-a4ed-430bff21dc96",
   "metadata": {},
   "outputs": [
    {
     "name": "stdout",
     "output_type": "stream",
     "text": [
      "case_id                           0.000000\n",
      "case_submitter_id                 0.000000\n",
      "project_id                        0.000000\n",
      "ethnicity                         0.002144\n",
      "gender                            0.002144\n",
      "                                    ...   \n",
      "irs_group                         1.000000\n",
      "international_prognostic_index    1.000000\n",
      "inss_stage                        1.000000\n",
      "uicc_clinical_stage               1.000000\n",
      "mitotic_count                     1.000000\n",
      "Length: 197, dtype: float64\n"
     ]
    },
    {
     "name": "stderr",
     "output_type": "stream",
     "text": [
      "/tmp/ipykernel_3256672/413249852.py:1: FutureWarning: Downcasting behavior in `replace` is deprecated and will be removed in a future version. To retain the old behavior, explicitly call `result.infer_objects(copy=False)`. To opt-in to the future behavior, set `pd.set_option('future.no_silent_downcasting', True)`\n",
      "  clinical.replace(\"'--\", np.nan, inplace=True)\n"
     ]
    }
   ],
   "source": [
    "clinical.replace(\"'--\", np.nan, inplace=True)\n",
    "print((clinical.isna().sum()/clinical.shape[0]).sort_values(ascending=True))"
   ]
  },
  {
   "cell_type": "code",
   "execution_count": 7,
   "id": "ac3b87eb-ca38-475b-b729-d7ee536e198e",
   "metadata": {},
   "outputs": [],
   "source": [
    "clinical.drop_duplicates(subset=['case_submitter_id'], inplace=True)\n",
    "clinical.rename(columns={\"case_submitter_id\": \"submitter_id\"}, inplace=True)\n",
    "clinical.drop(columns=['case_id'], inplace=True)"
   ]
  },
  {
   "cell_type": "code",
   "execution_count": 8,
   "id": "c97284bf-0e1b-4c23-8ec3-61351f042a62",
   "metadata": {},
   "outputs": [],
   "source": [
    "clinical_tcga = clinical[clinical.project_id.str.startswith('TCGA')]\n",
    "clinical_cptac = clinical[clinical.project_id.str.startswith('CPTAC')]"
   ]
  },
  {
   "cell_type": "code",
   "execution_count": 9,
   "id": "84aafbfe-5a36-403b-8c99-931af585fc82",
   "metadata": {},
   "outputs": [
    {
     "data": {
      "text/html": [
       "<div>\n",
       "<style scoped>\n",
       "    .dataframe tbody tr th:only-of-type {\n",
       "        vertical-align: middle;\n",
       "    }\n",
       "\n",
       "    .dataframe tbody tr th {\n",
       "        vertical-align: top;\n",
       "    }\n",
       "\n",
       "    .dataframe thead th {\n",
       "        text-align: right;\n",
       "    }\n",
       "</style>\n",
       "<table border=\"1\" class=\"dataframe\">\n",
       "  <thead>\n",
       "    <tr style=\"text-align: right;\">\n",
       "      <th></th>\n",
       "      <th>submitter_id</th>\n",
       "      <th>project_id</th>\n",
       "      <th>age_at_index</th>\n",
       "      <th>age_is_obfuscated</th>\n",
       "      <th>cause_of_death</th>\n",
       "      <th>cause_of_death_source</th>\n",
       "      <th>country_of_birth</th>\n",
       "      <th>country_of_residence_at_enrollment</th>\n",
       "      <th>days_to_birth</th>\n",
       "      <th>days_to_death</th>\n",
       "      <th>...</th>\n",
       "      <th>treatment_dose_units</th>\n",
       "      <th>treatment_duration</th>\n",
       "      <th>treatment_effect</th>\n",
       "      <th>treatment_effect_indicator</th>\n",
       "      <th>treatment_frequency</th>\n",
       "      <th>treatment_intent_type</th>\n",
       "      <th>treatment_or_therapy</th>\n",
       "      <th>treatment_outcome</th>\n",
       "      <th>treatment_outcome_duration</th>\n",
       "      <th>treatment_type</th>\n",
       "    </tr>\n",
       "  </thead>\n",
       "  <tbody>\n",
       "    <tr>\n",
       "      <th>0</th>\n",
       "      <td>TCGA-DD-AAVP</td>\n",
       "      <td>TCGA-LIHC</td>\n",
       "      <td>48</td>\n",
       "      <td>false</td>\n",
       "      <td>NaN</td>\n",
       "      <td>NaN</td>\n",
       "      <td>NaN</td>\n",
       "      <td>NaN</td>\n",
       "      <td>-17833</td>\n",
       "      <td>NaN</td>\n",
       "      <td>...</td>\n",
       "      <td>NaN</td>\n",
       "      <td>NaN</td>\n",
       "      <td>NaN</td>\n",
       "      <td>NaN</td>\n",
       "      <td>NaN</td>\n",
       "      <td>Adjuvant</td>\n",
       "      <td>no</td>\n",
       "      <td>NaN</td>\n",
       "      <td>NaN</td>\n",
       "      <td>Radiation Therapy, NOS</td>\n",
       "    </tr>\n",
       "    <tr>\n",
       "      <th>19</th>\n",
       "      <td>TCGA-KK-A7B2</td>\n",
       "      <td>TCGA-PRAD</td>\n",
       "      <td>68</td>\n",
       "      <td>false</td>\n",
       "      <td>Not Reported</td>\n",
       "      <td>NaN</td>\n",
       "      <td>NaN</td>\n",
       "      <td>United States</td>\n",
       "      <td>-24845</td>\n",
       "      <td>NaN</td>\n",
       "      <td>...</td>\n",
       "      <td>NaN</td>\n",
       "      <td>NaN</td>\n",
       "      <td>NaN</td>\n",
       "      <td>NaN</td>\n",
       "      <td>NaN</td>\n",
       "      <td>Adjuvant</td>\n",
       "      <td>no</td>\n",
       "      <td>NaN</td>\n",
       "      <td>NaN</td>\n",
       "      <td>Radiation Therapy, NOS</td>\n",
       "    </tr>\n",
       "    <tr>\n",
       "      <th>22</th>\n",
       "      <td>TCGA-DC-6158</td>\n",
       "      <td>TCGA-READ</td>\n",
       "      <td>70</td>\n",
       "      <td>false</td>\n",
       "      <td>NaN</td>\n",
       "      <td>NaN</td>\n",
       "      <td>NaN</td>\n",
       "      <td>United States</td>\n",
       "      <td>-25842</td>\n",
       "      <td>334</td>\n",
       "      <td>...</td>\n",
       "      <td>NaN</td>\n",
       "      <td>NaN</td>\n",
       "      <td>NaN</td>\n",
       "      <td>NaN</td>\n",
       "      <td>NaN</td>\n",
       "      <td>Adjuvant</td>\n",
       "      <td>no</td>\n",
       "      <td>NaN</td>\n",
       "      <td>NaN</td>\n",
       "      <td>Radiation Therapy, NOS</td>\n",
       "    </tr>\n",
       "    <tr>\n",
       "      <th>24</th>\n",
       "      <td>TCGA-DD-A4NP</td>\n",
       "      <td>TCGA-LIHC</td>\n",
       "      <td>32</td>\n",
       "      <td>false</td>\n",
       "      <td>NaN</td>\n",
       "      <td>NaN</td>\n",
       "      <td>NaN</td>\n",
       "      <td>United States</td>\n",
       "      <td>-11838</td>\n",
       "      <td>NaN</td>\n",
       "      <td>...</td>\n",
       "      <td>NaN</td>\n",
       "      <td>NaN</td>\n",
       "      <td>NaN</td>\n",
       "      <td>NaN</td>\n",
       "      <td>NaN</td>\n",
       "      <td>NaN</td>\n",
       "      <td>yes</td>\n",
       "      <td>NaN</td>\n",
       "      <td>NaN</td>\n",
       "      <td>Ablation or Embolization, NOS</td>\n",
       "    </tr>\n",
       "    <tr>\n",
       "      <th>42</th>\n",
       "      <td>TCGA-HQ-A5ND</td>\n",
       "      <td>TCGA-BLCA</td>\n",
       "      <td>78</td>\n",
       "      <td>false</td>\n",
       "      <td>NaN</td>\n",
       "      <td>NaN</td>\n",
       "      <td>NaN</td>\n",
       "      <td>Canada</td>\n",
       "      <td>-28555</td>\n",
       "      <td>274</td>\n",
       "      <td>...</td>\n",
       "      <td>NaN</td>\n",
       "      <td>NaN</td>\n",
       "      <td>NaN</td>\n",
       "      <td>NaN</td>\n",
       "      <td>NaN</td>\n",
       "      <td>NaN</td>\n",
       "      <td>no</td>\n",
       "      <td>NaN</td>\n",
       "      <td>NaN</td>\n",
       "      <td>Pharmaceutical Therapy, NOS</td>\n",
       "    </tr>\n",
       "    <tr>\n",
       "      <th>...</th>\n",
       "      <td>...</td>\n",
       "      <td>...</td>\n",
       "      <td>...</td>\n",
       "      <td>...</td>\n",
       "      <td>...</td>\n",
       "      <td>...</td>\n",
       "      <td>...</td>\n",
       "      <td>...</td>\n",
       "      <td>...</td>\n",
       "      <td>...</td>\n",
       "      <td>...</td>\n",
       "      <td>...</td>\n",
       "      <td>...</td>\n",
       "      <td>...</td>\n",
       "      <td>...</td>\n",
       "      <td>...</td>\n",
       "      <td>...</td>\n",
       "      <td>...</td>\n",
       "      <td>...</td>\n",
       "      <td>...</td>\n",
       "      <td>...</td>\n",
       "    </tr>\n",
       "    <tr>\n",
       "      <th>59221</th>\n",
       "      <td>TCGA-BP-4790</td>\n",
       "      <td>TCGA-KIRC</td>\n",
       "      <td>76</td>\n",
       "      <td>false</td>\n",
       "      <td>NaN</td>\n",
       "      <td>NaN</td>\n",
       "      <td>NaN</td>\n",
       "      <td>NaN</td>\n",
       "      <td>-28076</td>\n",
       "      <td>1111</td>\n",
       "      <td>...</td>\n",
       "      <td>NaN</td>\n",
       "      <td>NaN</td>\n",
       "      <td>NaN</td>\n",
       "      <td>NaN</td>\n",
       "      <td>NaN</td>\n",
       "      <td>NaN</td>\n",
       "      <td>NaN</td>\n",
       "      <td>NaN</td>\n",
       "      <td>NaN</td>\n",
       "      <td>NaN</td>\n",
       "    </tr>\n",
       "    <tr>\n",
       "      <th>59222</th>\n",
       "      <td>TCGA-N9-A4Q4</td>\n",
       "      <td>TCGA-UCS</td>\n",
       "      <td>61</td>\n",
       "      <td>false</td>\n",
       "      <td>NaN</td>\n",
       "      <td>NaN</td>\n",
       "      <td>NaN</td>\n",
       "      <td>United States</td>\n",
       "      <td>-22575</td>\n",
       "      <td>NaN</td>\n",
       "      <td>...</td>\n",
       "      <td>NaN</td>\n",
       "      <td>NaN</td>\n",
       "      <td>NaN</td>\n",
       "      <td>NaN</td>\n",
       "      <td>NaN</td>\n",
       "      <td>NaN</td>\n",
       "      <td>no</td>\n",
       "      <td>NaN</td>\n",
       "      <td>NaN</td>\n",
       "      <td>Pharmaceutical Therapy, NOS</td>\n",
       "    </tr>\n",
       "    <tr>\n",
       "      <th>59228</th>\n",
       "      <td>TCGA-RY-A847</td>\n",
       "      <td>TCGA-LGG</td>\n",
       "      <td>45</td>\n",
       "      <td>false</td>\n",
       "      <td>NaN</td>\n",
       "      <td>NaN</td>\n",
       "      <td>NaN</td>\n",
       "      <td>United States</td>\n",
       "      <td>-16732</td>\n",
       "      <td>NaN</td>\n",
       "      <td>...</td>\n",
       "      <td>NaN</td>\n",
       "      <td>NaN</td>\n",
       "      <td>NaN</td>\n",
       "      <td>NaN</td>\n",
       "      <td>NaN</td>\n",
       "      <td>Adjuvant</td>\n",
       "      <td>no</td>\n",
       "      <td>NaN</td>\n",
       "      <td>NaN</td>\n",
       "      <td>Pharmaceutical Therapy, NOS</td>\n",
       "    </tr>\n",
       "    <tr>\n",
       "      <th>59231</th>\n",
       "      <td>TCGA-AB-2881</td>\n",
       "      <td>TCGA-LAML</td>\n",
       "      <td>48</td>\n",
       "      <td>false</td>\n",
       "      <td>NaN</td>\n",
       "      <td>NaN</td>\n",
       "      <td>NaN</td>\n",
       "      <td>NaN</td>\n",
       "      <td>-17808</td>\n",
       "      <td>NaN</td>\n",
       "      <td>...</td>\n",
       "      <td>NaN</td>\n",
       "      <td>NaN</td>\n",
       "      <td>NaN</td>\n",
       "      <td>NaN</td>\n",
       "      <td>NaN</td>\n",
       "      <td>NaN</td>\n",
       "      <td>no</td>\n",
       "      <td>NaN</td>\n",
       "      <td>NaN</td>\n",
       "      <td>Pharmaceutical Therapy, NOS</td>\n",
       "    </tr>\n",
       "    <tr>\n",
       "      <th>59233</th>\n",
       "      <td>TCGA-DJ-A4V0</td>\n",
       "      <td>TCGA-THCA</td>\n",
       "      <td>36</td>\n",
       "      <td>false</td>\n",
       "      <td>NaN</td>\n",
       "      <td>NaN</td>\n",
       "      <td>NaN</td>\n",
       "      <td>United States</td>\n",
       "      <td>-13168</td>\n",
       "      <td>NaN</td>\n",
       "      <td>...</td>\n",
       "      <td>NaN</td>\n",
       "      <td>NaN</td>\n",
       "      <td>NaN</td>\n",
       "      <td>NaN</td>\n",
       "      <td>NaN</td>\n",
       "      <td>Adjuvant</td>\n",
       "      <td>no</td>\n",
       "      <td>NaN</td>\n",
       "      <td>NaN</td>\n",
       "      <td>Radiation, External Beam</td>\n",
       "    </tr>\n",
       "  </tbody>\n",
       "</table>\n",
       "<p>11428 rows × 196 columns</p>\n",
       "</div>"
      ],
      "text/plain": [
       "       submitter_id project_id age_at_index age_is_obfuscated cause_of_death  \\\n",
       "0      TCGA-DD-AAVP  TCGA-LIHC           48             false            NaN   \n",
       "19     TCGA-KK-A7B2  TCGA-PRAD           68             false   Not Reported   \n",
       "22     TCGA-DC-6158  TCGA-READ           70             false            NaN   \n",
       "24     TCGA-DD-A4NP  TCGA-LIHC           32             false            NaN   \n",
       "42     TCGA-HQ-A5ND  TCGA-BLCA           78             false            NaN   \n",
       "...             ...        ...          ...               ...            ...   \n",
       "59221  TCGA-BP-4790  TCGA-KIRC           76             false            NaN   \n",
       "59222  TCGA-N9-A4Q4   TCGA-UCS           61             false            NaN   \n",
       "59228  TCGA-RY-A847   TCGA-LGG           45             false            NaN   \n",
       "59231  TCGA-AB-2881  TCGA-LAML           48             false            NaN   \n",
       "59233  TCGA-DJ-A4V0  TCGA-THCA           36             false            NaN   \n",
       "\n",
       "      cause_of_death_source country_of_birth  \\\n",
       "0                       NaN              NaN   \n",
       "19                      NaN              NaN   \n",
       "22                      NaN              NaN   \n",
       "24                      NaN              NaN   \n",
       "42                      NaN              NaN   \n",
       "...                     ...              ...   \n",
       "59221                   NaN              NaN   \n",
       "59222                   NaN              NaN   \n",
       "59228                   NaN              NaN   \n",
       "59231                   NaN              NaN   \n",
       "59233                   NaN              NaN   \n",
       "\n",
       "      country_of_residence_at_enrollment days_to_birth days_to_death  ...  \\\n",
       "0                                    NaN        -17833           NaN  ...   \n",
       "19                         United States        -24845           NaN  ...   \n",
       "22                         United States        -25842           334  ...   \n",
       "24                         United States        -11838           NaN  ...   \n",
       "42                                Canada        -28555           274  ...   \n",
       "...                                  ...           ...           ...  ...   \n",
       "59221                                NaN        -28076          1111  ...   \n",
       "59222                      United States        -22575           NaN  ...   \n",
       "59228                      United States        -16732           NaN  ...   \n",
       "59231                                NaN        -17808           NaN  ...   \n",
       "59233                      United States        -13168           NaN  ...   \n",
       "\n",
       "       treatment_dose_units treatment_duration treatment_effect  \\\n",
       "0                       NaN                NaN              NaN   \n",
       "19                      NaN                NaN              NaN   \n",
       "22                      NaN                NaN              NaN   \n",
       "24                      NaN                NaN              NaN   \n",
       "42                      NaN                NaN              NaN   \n",
       "...                     ...                ...              ...   \n",
       "59221                   NaN                NaN              NaN   \n",
       "59222                   NaN                NaN              NaN   \n",
       "59228                   NaN                NaN              NaN   \n",
       "59231                   NaN                NaN              NaN   \n",
       "59233                   NaN                NaN              NaN   \n",
       "\n",
       "       treatment_effect_indicator  treatment_frequency treatment_intent_type  \\\n",
       "0                             NaN                  NaN              Adjuvant   \n",
       "19                            NaN                  NaN              Adjuvant   \n",
       "22                            NaN                  NaN              Adjuvant   \n",
       "24                            NaN                  NaN                   NaN   \n",
       "42                            NaN                  NaN                   NaN   \n",
       "...                           ...                  ...                   ...   \n",
       "59221                         NaN                  NaN                   NaN   \n",
       "59222                         NaN                  NaN                   NaN   \n",
       "59228                         NaN                  NaN              Adjuvant   \n",
       "59231                         NaN                  NaN                   NaN   \n",
       "59233                         NaN                  NaN              Adjuvant   \n",
       "\n",
       "       treatment_or_therapy treatment_outcome treatment_outcome_duration  \\\n",
       "0                        no               NaN                        NaN   \n",
       "19                       no               NaN                        NaN   \n",
       "22                       no               NaN                        NaN   \n",
       "24                      yes               NaN                        NaN   \n",
       "42                       no               NaN                        NaN   \n",
       "...                     ...               ...                        ...   \n",
       "59221                   NaN               NaN                        NaN   \n",
       "59222                    no               NaN                        NaN   \n",
       "59228                    no               NaN                        NaN   \n",
       "59231                    no               NaN                        NaN   \n",
       "59233                    no               NaN                        NaN   \n",
       "\n",
       "                      treatment_type  \n",
       "0             Radiation Therapy, NOS  \n",
       "19            Radiation Therapy, NOS  \n",
       "22            Radiation Therapy, NOS  \n",
       "24     Ablation or Embolization, NOS  \n",
       "42       Pharmaceutical Therapy, NOS  \n",
       "...                              ...  \n",
       "59221                            NaN  \n",
       "59222    Pharmaceutical Therapy, NOS  \n",
       "59228    Pharmaceutical Therapy, NOS  \n",
       "59231    Pharmaceutical Therapy, NOS  \n",
       "59233       Radiation, External Beam  \n",
       "\n",
       "[11428 rows x 196 columns]"
      ]
     },
     "execution_count": 9,
     "metadata": {},
     "output_type": "execute_result"
    }
   ],
   "source": [
    "clinical_tcga"
   ]
  },
  {
   "cell_type": "code",
   "execution_count": 10,
   "id": "1445af84-6093-41ee-a0b5-4834774d4a8b",
   "metadata": {},
   "outputs": [],
   "source": [
    "keep_cols = ['submitter_id', 'project_id', 'tumor_stage', 'age_at_diagnosis', 'prior_treatment', 'prior_malignancy',\n",
    "             'synchronous_malignancy', 'gender', 'race', 'ethnicity']\n",
    "\n",
    "columns_to_drop = [col for col in clinical_tcga.columns if col not in keep_cols]\n",
    "clinical_tcga = clinical_tcga.drop(columns=columns_to_drop)"
   ]
  },
  {
   "cell_type": "markdown",
   "id": "dc09d200-4372-47d6-817f-3399d14c1307",
   "metadata": {},
   "source": [
    "Take information from multisurv"
   ]
  },
  {
   "cell_type": "code",
   "execution_count": 11,
   "id": "9fec7cc3-bc70-4a24-8db0-715668ce20d4",
   "metadata": {},
   "outputs": [],
   "source": [
    "multisurv_clinical = pd.read_csv('files/multisurv_clinical.tsv', sep='\\t')[['submitter_id', 'tumor_stage', 'treatments_pharmaceutical_treatment_or_therapy', 'treatments_radiation_treatment_or_therapy']] "
   ]
  },
  {
   "cell_type": "code",
   "execution_count": 12,
   "id": "ff44a45f-fa19-40b3-945a-dadb436c6353",
   "metadata": {},
   "outputs": [],
   "source": [
    "clinical_tcga = clinical_tcga.merge(multisurv_clinical, how='left', on='submitter_id')"
   ]
  },
  {
   "cell_type": "markdown",
   "id": "875645ef-9b71-45fb-99de-1778026f67cd",
   "metadata": {},
   "source": [
    "## Supplementary information"
   ]
  },
  {
   "cell_type": "code",
   "execution_count": 17,
   "id": "7e23e9f5-ac9d-4630-a323-3026c1fd080f",
   "metadata": {},
   "outputs": [],
   "source": [
    "%%capture\n",
    "supplementary = pd.read_csv('files/supplementary_data.tsv', sep='\\t')"
   ]
  },
  {
   "cell_type": "code",
   "execution_count": 22,
   "id": "3e978e9a-5035-4b54-81ee-800f67f9625c",
   "metadata": {},
   "outputs": [],
   "source": [
    "mapper_clin = {\n",
    "    'patient': 'submitter_id', \n",
    "    'IDH.status': 'IDH', \n",
    "    'MGMT.promoter.status': 'MGMT',\n",
    "    'X1p.19q.codeletion': 'X1p19q',\n",
    "    'Chr.19.20.co.gain': '19.20.gain',\n",
    "    'Chr.7.gain.Chr.10.loss': '7g10l',\n",
    "    'TERT.expression.status': 'TERT',\n",
    "    'ATRX.status': 'ATRX',\n",
    "    'TP53 mutation': 'TP53'\n",
    "}"
   ]
  },
  {
   "cell_type": "code",
   "execution_count": 23,
   "id": "eb3eeb7f-4fa6-41b9-a9c8-abc192ae450e",
   "metadata": {},
   "outputs": [],
   "source": [
    "supplementary = supplementary.drop(columns=['IDH', 'Mutations', 'TERT']).rename(columns=mapper_clin)[list(mapper_clin.values())]\n",
    "supplementary = supplementary[~supplementary.duplicated(subset=['submitter_id'], keep='first')].dropna(subset='submitter_id')"
   ]
  },
  {
   "cell_type": "code",
   "execution_count": 24,
   "id": "90480287-d273-444a-b37c-e45b54a5e702",
   "metadata": {},
   "outputs": [],
   "source": [
    "supplementary['subtype'] = supplementary.apply(\n",
    "    lambda row: (\n",
    "        'glioblastoma' if row['IDH'] == 'WT' else\n",
    "        ('oligodendrogliome' if row['X1p19q'] == 'codel' else\n",
    "         'astrocytoma' if row['X1p19q'] == 'non-codel' else np.nan)\n",
    "        if pd.notna(row['IDH']) else np.nan\n",
    "    ),\n",
    "    axis=1\n",
    ")"
   ]
  },
  {
   "cell_type": "code",
   "execution_count": 25,
   "id": "cd0a2cf9-3e17-439f-8c8d-1eea1752eefb",
   "metadata": {},
   "outputs": [],
   "source": [
    "clinical_tcga = clinical_tcga.merge(supplementary, how='left', on='submitter_id')"
   ]
  },
  {
   "cell_type": "code",
   "execution_count": 26,
   "id": "1a006e4c-90d5-489e-80cf-019b8ab43073",
   "metadata": {},
   "outputs": [],
   "source": [
    "race_subset = clinical_tcga['race'].isnull()\n",
    "ethnicity_subset = ~clinical_tcga['ethnicity'].isnull()\n",
    "subset = race_subset & ethnicity_subset\n",
    "clinical_tcga.loc[subset, 'race'] = clinical_tcga.loc[subset, 'ethnicity']\n",
    "race_subset = (clinical_tcga['race'] == 'white')\n",
    "ethnicity_subset = (~clinical_tcga['ethnicity'].isnull() &\n",
    "                    (clinical_tcga['ethnicity'] == 'hispanic or latino'))\n",
    "subset = race_subset & ethnicity_subset\n",
    "clinical_tcga.loc[subset, 'race'] = clinical_tcga.loc[subset, 'ethnicity']"
   ]
  },
  {
   "cell_type": "code",
   "execution_count": 27,
   "id": "d0b299b2-6ecc-43b3-9187-d6895764a157",
   "metadata": {},
   "outputs": [],
   "source": [
    "clinical_tcga = clinical_tcga.drop('ethnicity', axis=1)"
   ]
  },
  {
   "cell_type": "markdown",
   "id": "a5f5ddfa-f755-42d7-a116-4a4beede5267",
   "metadata": {},
   "source": [
    "## Get DSS labels according to SurvPath and MOTCat for TCGA-GBMLGG\n",
    "\n",
    "For this part you will need to clone [SurvPath](https://github.com/mahmoodlab/SurvPath/tree/main), and [MOTCat](https://github.com/Innse/MOTCat).\n",
    "\n",
    "# From MOTCAT:"
   ]
  },
  {
   "cell_type": "code",
   "execution_count": 24,
   "id": "cbba560a-6a93-4a6e-a8da-2a0bc6ce2b97",
   "metadata": {},
   "outputs": [],
   "source": [
    "motcat_columns = ['case_id', 'survival_months', 'censorship', 'age', 'site', 'oncotree_code']\n",
    "labels_columns = ['case_id', 'survival_months', 'censorship', 'age', 'site', 'oncotree_code', 'survival_months_dss', 'censorship_dss']\n",
    "\n",
    "def preprocess_df(df, columns):\n",
    "    df = df[columns]\n",
    "    df.rename(columns={'case_id': 'submitter_id'}, inplace=True)\n",
    "    df.drop_duplicates(subset=['submitter_id'], inplace=True)\n",
    "    return df"
   ]
  },
  {
   "cell_type": "code",
   "execution_count": 25,
   "id": "8027b1e7-844f-4f19-9fd1-b108f0a15584",
   "metadata": {},
   "outputs": [],
   "source": [
    "%%capture\n",
    "gbmlgg = preprocess_df(pd.read_csv('motcat_metadata/tcga_gbmlgg.csv'), motcat_columns)\n",
    "luad = preprocess_df(pd.read_csv('motcat_metadata/tcga_luad.csv'), motcat_columns)"
   ]
  },
  {
   "cell_type": "code",
   "execution_count": 26,
   "id": "08a17765-7787-4db0-993e-42915f846e53",
   "metadata": {},
   "outputs": [],
   "source": [
    "%%capture\n",
    "brca = preprocess_df(pd.read_csv('survpath_metadata/tcga_brca.csv'), labels_columns)\n",
    "coadread = preprocess_df(pd.read_csv('survpath_metadata/tcga_coadread.csv'), labels_columns)"
   ]
  },
  {
   "cell_type": "code",
   "execution_count": 49,
   "id": "fd1424e4-d7dc-4d33-a06e-7548bbde043c",
   "metadata": {},
   "outputs": [],
   "source": [
    "combined = pd.concat([gbmlgg, luad, brca, coadread])"
   ]
  },
  {
   "cell_type": "code",
   "execution_count": 32,
   "id": "ba963eb5-6893-40b8-99e8-292dda69a976",
   "metadata": {},
   "outputs": [],
   "source": [
    "clinical_tcga = clinical_tcga.merge(combined, how='left', on='submitter_id')"
   ]
  },
  {
   "cell_type": "code",
   "execution_count": 33,
   "id": "4115be98",
   "metadata": {},
   "outputs": [],
   "source": [
    "# make response\n",
    "treatment_mask = (\n",
    "    (clinical_tcga['treatments_pharmaceutical_treatment_or_therapy'] == 'yes') &\n",
    "    (clinical_tcga['treatments_radiation_treatment_or_therapy'] == 'yes')\n",
    ")\n",
    "\n",
    "# Step 2: Add mask for censorship == 0\n",
    "eligible_mask = treatment_mask & (clinical_tcga['censorship'] == 0)\n",
    "\n",
    "# Step 3: Apply condition on survival\n",
    "clinical_tcga['response'] = np.where(\n",
    "    eligible_mask,\n",
    "    np.where(clinical_tcga['survival_months'] > 15, True, False),\n",
    "    np.nan\n",
    ")"
   ]
  },
  {
   "cell_type": "markdown",
   "id": "02329e26-3752-4072-9d54-4ef6ee9f7c53",
   "metadata": {},
   "source": [
    "# 3. Whole Slide Images <a name=\"p3\"></a>\n",
    "UNI-v2"
   ]
  },
  {
   "cell_type": "code",
   "execution_count": 34,
   "id": "0f4496db-721a-4bc7-8767-5baccff6313f",
   "metadata": {},
   "outputs": [
    {
     "name": "stdout",
     "output_type": "stream",
     "text": [
      "TCGA-KICH\n"
     ]
    },
    {
     "name": "stderr",
     "output_type": "stream",
     "text": [
      "100%|████████████████████████████████████████████████████████████████████████████████████████████████████████████████████████████████████████████████████████████████████| 109/109 [00:05<00:00, 20.07it/s]\n"
     ]
    },
    {
     "name": "stdout",
     "output_type": "stream",
     "text": [
      "TCGA-KIRC\n"
     ]
    },
    {
     "name": "stderr",
     "output_type": "stream",
     "text": [
      "100%|████████████████████████████████████████████████████████████████████████████████████████████████████████████████████████████████████████████████████████████████████| 519/519 [00:21<00:00, 23.65it/s]\n"
     ]
    },
    {
     "name": "stdout",
     "output_type": "stream",
     "text": [
      "TCGA-KIRP\n"
     ]
    },
    {
     "name": "stderr",
     "output_type": "stream",
     "text": [
      "100%|████████████████████████████████████████████████████████████████████████████████████████████████████████████████████████████████████████████████████████████████████| 297/297 [00:10<00:00, 28.02it/s]\n"
     ]
    },
    {
     "name": "stdout",
     "output_type": "stream",
     "text": [
      "TCGA-LGG\n"
     ]
    },
    {
     "name": "stderr",
     "output_type": "stream",
     "text": [
      "100%|████████████████████████████████████████████████████████████████████████████████████████████████████████████████████████████████████████████████████████████████████| 844/844 [00:29<00:00, 28.66it/s]\n"
     ]
    },
    {
     "name": "stdout",
     "output_type": "stream",
     "text": [
      "TCGA-LIHC\n"
     ]
    },
    {
     "name": "stderr",
     "output_type": "stream",
     "text": [
      "100%|████████████████████████████████████████████████████████████████████████████████████████████████████████████████████████████████████████████████████████████████████| 372/372 [00:12<00:00, 29.55it/s]\n"
     ]
    },
    {
     "name": "stdout",
     "output_type": "stream",
     "text": [
      "TCGA-LUAD\n"
     ]
    },
    {
     "name": "stderr",
     "output_type": "stream",
     "text": [
      "100%|████████████████████████████████████████████████████████████████████████████████████████████████████████████████████████████████████████████████████████████████████| 531/531 [00:17<00:00, 30.87it/s]\n"
     ]
    },
    {
     "name": "stdout",
     "output_type": "stream",
     "text": [
      "TCGA-LUSC\n"
     ]
    },
    {
     "name": "stderr",
     "output_type": "stream",
     "text": [
      "100%|████████████████████████████████████████████████████████████████████████████████████████████████████████████████████████████████████████████████████████████████████| 512/512 [00:17<00:00, 29.36it/s]\n"
     ]
    },
    {
     "name": "stdout",
     "output_type": "stream",
     "text": [
      "TCGA-PAAD\n"
     ]
    },
    {
     "name": "stderr",
     "output_type": "stream",
     "text": [
      "100%|████████████████████████████████████████████████████████████████████████████████████████████████████████████████████████████████████████████████████████████████████| 203/203 [00:06<00:00, 29.95it/s]\n"
     ]
    },
    {
     "name": "stdout",
     "output_type": "stream",
     "text": [
      "TCGA-MESO\n"
     ]
    },
    {
     "name": "stderr",
     "output_type": "stream",
     "text": [
      "100%|██████████████████████████████████████████████████████████████████████████████████████████████████████████████████████████████████████████████████████████████████████| 87/87 [00:02<00:00, 31.18it/s]\n"
     ]
    },
    {
     "name": "stdout",
     "output_type": "stream",
     "text": [
      "TCGA-OV\n"
     ]
    },
    {
     "name": "stderr",
     "output_type": "stream",
     "text": [
      "100%|████████████████████████████████████████████████████████████████████████████████████████████████████████████████████████████████████████████████████████████████████| 107/107 [00:03<00:00, 30.23it/s]\n"
     ]
    },
    {
     "name": "stdout",
     "output_type": "stream",
     "text": [
      "TCGA-PCPG\n"
     ]
    },
    {
     "name": "stderr",
     "output_type": "stream",
     "text": [
      "100%|████████████████████████████████████████████████████████████████████████████████████████████████████████████████████████████████████████████████████████████████████| 196/196 [00:06<00:00, 31.93it/s]\n"
     ]
    },
    {
     "name": "stdout",
     "output_type": "stream",
     "text": [
      "TCGA-PRAD\n"
     ]
    },
    {
     "name": "stderr",
     "output_type": "stream",
     "text": [
      "100%|████████████████████████████████████████████████████████████████████████████████████████████████████████████████████████████████████████████████████████████████████| 449/449 [00:14<00:00, 30.27it/s]\n"
     ]
    },
    {
     "name": "stdout",
     "output_type": "stream",
     "text": [
      "TCGA-READ\n"
     ]
    },
    {
     "name": "stderr",
     "output_type": "stream",
     "text": [
      "100%|████████████████████████████████████████████████████████████████████████████████████████████████████████████████████████████████████████████████████████████████████| 158/158 [00:05<00:00, 29.61it/s]\n"
     ]
    },
    {
     "name": "stdout",
     "output_type": "stream",
     "text": [
      "TCGA-SARC\n"
     ]
    },
    {
     "name": "stderr",
     "output_type": "stream",
     "text": [
      "100%|████████████████████████████████████████████████████████████████████████████████████████████████████████████████████████████████████████████████████████████████████| 600/600 [00:19<00:00, 30.13it/s]\n"
     ]
    },
    {
     "name": "stdout",
     "output_type": "stream",
     "text": [
      "TCGA-SKCM\n"
     ]
    },
    {
     "name": "stderr",
     "output_type": "stream",
     "text": [
      "100%|████████████████████████████████████████████████████████████████████████████████████████████████████████████████████████████████████████████████████████████████████| 475/475 [00:15<00:00, 30.77it/s]\n"
     ]
    },
    {
     "name": "stdout",
     "output_type": "stream",
     "text": [
      "TCGA-STAD\n"
     ]
    },
    {
     "name": "stderr",
     "output_type": "stream",
     "text": [
      "100%|████████████████████████████████████████████████████████████████████████████████████████████████████████████████████████████████████████████████████████████████████| 400/400 [00:13<00:00, 28.61it/s]\n"
     ]
    },
    {
     "name": "stdout",
     "output_type": "stream",
     "text": [
      "TCGA-TGCT\n"
     ]
    },
    {
     "name": "stderr",
     "output_type": "stream",
     "text": [
      "100%|████████████████████████████████████████████████████████████████████████████████████████████████████████████████████████████████████████████████████████████████████| 254/254 [00:08<00:00, 29.20it/s]\n"
     ]
    },
    {
     "name": "stdout",
     "output_type": "stream",
     "text": [
      "TCGA-THCA\n"
     ]
    },
    {
     "name": "stderr",
     "output_type": "stream",
     "text": [
      "100%|████████████████████████████████████████████████████████████████████████████████████████████████████████████████████████████████████████████████████████████████████| 518/518 [00:17<00:00, 29.10it/s]\n"
     ]
    },
    {
     "name": "stdout",
     "output_type": "stream",
     "text": [
      "TCGA-THYM\n"
     ]
    },
    {
     "name": "stderr",
     "output_type": "stream",
     "text": [
      "100%|████████████████████████████████████████████████████████████████████████████████████████████████████████████████████████████████████████████████████████████████████| 180/180 [00:05<00:00, 31.87it/s]\n"
     ]
    },
    {
     "name": "stdout",
     "output_type": "stream",
     "text": [
      "TCGA-UCEC\n"
     ]
    },
    {
     "name": "stderr",
     "output_type": "stream",
     "text": [
      "100%|████████████████████████████████████████████████████████████████████████████████████████████████████████████████████████████████████████████████████████████████████| 566/566 [00:18<00:00, 30.10it/s]\n"
     ]
    },
    {
     "name": "stdout",
     "output_type": "stream",
     "text": [
      "TCGA-UCS\n"
     ]
    },
    {
     "name": "stderr",
     "output_type": "stream",
     "text": [
      "100%|██████████████████████████████████████████████████████████████████████████████████████████████████████████████████████████████████████████████████████████████████████| 87/87 [00:02<00:00, 31.35it/s]\n"
     ]
    },
    {
     "name": "stdout",
     "output_type": "stream",
     "text": [
      "TCGA-UVM\n"
     ]
    },
    {
     "name": "stderr",
     "output_type": "stream",
     "text": [
      "100%|██████████████████████████████████████████████████████████████████████████████████████████████████████████████████████████████████████████████████████████████████████| 80/80 [00:02<00:00, 30.75it/s]\n"
     ]
    },
    {
     "name": "stdout",
     "output_type": "stream",
     "text": [
      "TCGA-ACC\n"
     ]
    },
    {
     "name": "stderr",
     "output_type": "stream",
     "text": [
      "100%|████████████████████████████████████████████████████████████████████████████████████████████████████████████████████████████████████████████████████████████████████| 227/227 [00:07<00:00, 31.00it/s]\n"
     ]
    },
    {
     "name": "stdout",
     "output_type": "stream",
     "text": [
      "TCGA-BLCA\n"
     ]
    },
    {
     "name": "stderr",
     "output_type": "stream",
     "text": [
      "100%|████████████████████████████████████████████████████████████████████████████████████████████████████████████████████████████████████████████████████████████████████| 457/457 [00:14<00:00, 30.58it/s]\n"
     ]
    },
    {
     "name": "stdout",
     "output_type": "stream",
     "text": [
      "TCGA-BRCA_IDC\n"
     ]
    },
    {
     "name": "stderr",
     "output_type": "stream",
     "text": [
      "100%|████████████████████████████████████████████████████████████████████████████████████████████████████████████████████████████████████████████████████████████████████| 838/838 [00:28<00:00, 29.21it/s]\n"
     ]
    },
    {
     "name": "stdout",
     "output_type": "stream",
     "text": [
      "TCGA-BRCA_OTHERS\n"
     ]
    },
    {
     "name": "stderr",
     "output_type": "stream",
     "text": [
      "100%|████████████████████████████████████████████████████████████████████████████████████████████████████████████████████████████████████████████████████████████████████| 288/288 [00:09<00:00, 29.05it/s]\n"
     ]
    },
    {
     "name": "stdout",
     "output_type": "stream",
     "text": [
      "TCGA-CESC\n"
     ]
    },
    {
     "name": "stderr",
     "output_type": "stream",
     "text": [
      "100%|████████████████████████████████████████████████████████████████████████████████████████████████████████████████████████████████████████████████████████████████████| 279/279 [00:09<00:00, 30.31it/s]\n"
     ]
    },
    {
     "name": "stdout",
     "output_type": "stream",
     "text": [
      "TCGA-CHOL\n"
     ]
    },
    {
     "name": "stderr",
     "output_type": "stream",
     "text": [
      "100%|██████████████████████████████████████████████████████████████████████████████████████████████████████████████████████████████████████████████████████████████████████| 39/39 [00:01<00:00, 30.90it/s]\n"
     ]
    },
    {
     "name": "stdout",
     "output_type": "stream",
     "text": [
      "TCGA-COAD\n"
     ]
    },
    {
     "name": "stderr",
     "output_type": "stream",
     "text": [
      "100%|████████████████████████████████████████████████████████████████████████████████████████████████████████████████████████████████████████████████████████████████████| 442/442 [00:15<00:00, 29.24it/s]\n"
     ]
    },
    {
     "name": "stdout",
     "output_type": "stream",
     "text": [
      "TCGA-DLBC\n"
     ]
    },
    {
     "name": "stderr",
     "output_type": "stream",
     "text": [
      "100%|██████████████████████████████████████████████████████████████████████████████████████████████████████████████████████████████████████████████████████████████████████| 44/44 [00:01<00:00, 28.90it/s]\n"
     ]
    },
    {
     "name": "stdout",
     "output_type": "stream",
     "text": [
      "TCGA-ESCA\n"
     ]
    },
    {
     "name": "stderr",
     "output_type": "stream",
     "text": [
      "100%|████████████████████████████████████████████████████████████████████████████████████████████████████████████████████████████████████████████████████████████████████| 158/158 [00:05<00:00, 30.39it/s]\n"
     ]
    },
    {
     "name": "stdout",
     "output_type": "stream",
     "text": [
      "TCGA-GBM\n"
     ]
    },
    {
     "name": "stderr",
     "output_type": "stream",
     "text": [
      "100%|████████████████████████████████████████████████████████████████████████████████████████████████████████████████████████████████████████████████████████████████████| 858/858 [00:28<00:00, 29.62it/s]\n"
     ]
    },
    {
     "name": "stdout",
     "output_type": "stream",
     "text": [
      "TCGA-HNSC\n"
     ]
    },
    {
     "name": "stderr",
     "output_type": "stream",
     "text": [
      "100%|████████████████████████████████████████████████████████████████████████████████████████████████████████████████████████████████████████████████████████████████████| 472/472 [00:16<00:00, 29.06it/s]\n"
     ]
    }
   ],
   "source": [
    "wsi_mapping = {}\n",
    "for path in os.listdir(base_path_wsi):\n",
    "    print(path)\n",
    "    slides = os.listdir(os.path.join(base_path_wsi, path))\n",
    "    for slide in tqdm.tqdm(slides):base_path_wsi\n",
    "        patient_id = slide[:12]\n",
    "        if patient_id in list(wsi_mapping.keys()):\n",
    "            continue\n",
    "\n",
    "        patient_slides = [os.path.join(base_path_wsi, path, slide) for slide in slides if slide.startswith(patient_id)]\n",
    "        n_patches = [get_n_patches(p) for p in patient_slides]\n",
    "        sorted_list = [x for x, _ in sorted(zip(patient_slides, n_patches), key=lambda pair: pair[1], reverse=True)]\n",
    "        sorted_list = ['/'.join(p.split('/')[3:]) for p in sorted_list]\n",
    "        wsi_mapping[patient_id] = sorted_list"
   ]
  },
  {
   "cell_type": "code",
   "execution_count": 35,
   "id": "bc92d960-ce05-440c-b01e-6f2fbcf9f0f4",
   "metadata": {},
   "outputs": [
    {
     "data": {
      "text/plain": [
       "(11428, 29)"
      ]
     },
     "execution_count": 35,
     "metadata": {},
     "output_type": "execute_result"
    }
   ],
   "source": [
    "WSI_mapping = pd.DataFrame([(k, v) for k, v in wsi_mapping.items()], columns=('submitter_id', 'WSI'))\n",
    "clinical_tcga = clinical_tcga.merge(WSI_mapping, how='left', on='submitter_id')\n",
    "clinical_tcga.shape"
   ]
  },
  {
   "cell_type": "code",
   "execution_count": 36,
   "id": "4d819295-9780-42c1-9e8f-cbf3dc03f5e8",
   "metadata": {},
   "outputs": [],
   "source": [
    "# keep only patients at least with a WSI\n",
    "clinical_tcga = clinical_tcga[clinical_tcga.WSI.notna()]"
   ]
  },
  {
   "cell_type": "code",
   "execution_count": 37,
   "id": "3d906bea-4610-489e-a923-446958c5820e",
   "metadata": {},
   "outputs": [],
   "source": [
    "pretrain_idx, fine_tune_idx = train_test_split(\n",
    "    clinical_tcga,\n",
    "    test_size=0.4,\n",
    "    random_state=42,\n",
    "    stratify=clinical_tcga['project_id'] \n",
    ")\n",
    "\n",
    "# Then split train+val into train/val\n",
    "pretrain_idx, val_pretrain_idx = train_test_split(\n",
    "    pretrain_idx,\n",
    "    test_size=0.05,  \n",
    "    random_state=42\n",
    ")\n",
    "\n",
    "def assign_split(submitter_id):\n",
    "    if submitter_id in pretrain_idx['submitter_id'].values:\n",
    "        return \"pretrain\"\n",
    "    elif submitter_id in val_pretrain_idx['submitter_id'].values:\n",
    "        return \"val-pretrain\"\n",
    "    elif submitter_id in fine_tune_idx['submitter_id'].values:\n",
    "        return \"fine-tune\"\n",
    "    else:\n",
    "        return pd.NA  \n",
    "\n",
    "clinical_tcga[\"split\"] = clinical_tcga[\"submitter_id\"].apply(assign_split)"
   ]
  },
  {
   "cell_type": "markdown",
   "id": "93481055-d227-4125-889b-2bb508881e0e",
   "metadata": {},
   "source": [
    "# 4. RNA-Seq <a name=\"p4\"></a>\n",
    "For RNA Seq we use the snippet code from [MMP](https://github.com/mahmoodlab/MMP/blob/main/src/preprocess_pancancer_TCGA_normalized_RNA.ipynb) to download PAN-Cancer RNASeq for each project"
   ]
  },
  {
   "cell_type": "code",
   "execution_count": 43,
   "id": "b81d0979-5e96-4428-934b-c8f2aec1e43b",
   "metadata": {},
   "outputs": [],
   "source": [
    "projects = \"\"\"\n",
    "TCGA-ACC   TCGA-BRCA     TCGA-CESC  TCGA-COAD  TCGA-ESCA  TCGA-HNSC  TCGA-KIRC  TCGA-LGG   TCGA-LUAD  TCGA-MESO  TCGA-PAAD  TCGA-PRAD  TCGA-SARC  TCGA-STAD  TCGA-THCA  TCGA-UCEC  TCGA-UVM\n",
    "TCGA-BLCA  TCGA-CHOL  TCGA-DLBC  TCGA-GBM   TCGA-KICH  TCGA-KIRP  TCGA-LIHC  TCGA-LUSC  TCGA-OV    TCGA-PCPG  TCGA-READ  TCGA-SKCM  TCGA-TGCT  TCGA-THYM  TCGA-UCS\n",
    "\"\"\"\n",
    "project_list = projects.split()\n",
    "os.makedirs(\"./data_rna\", exist_ok=True)"
   ]
  },
  {
   "cell_type": "code",
   "execution_count": 44,
   "id": "da45fd7c-8e59-4cbf-9935-9ed30fe7a928",
   "metadata": {},
   "outputs": [
    {
     "name": "stdout",
     "output_type": "stream",
     "text": [
      "Downloading TCGA.ACC...\n",
      "Unzipping TCGA.ACC...\n",
      "Downloading TCGA.BRCA...\n",
      "Unzipping TCGA.BRCA...\n",
      "Downloading TCGA.CESC...\n",
      "Unzipping TCGA.CESC...\n",
      "Downloading TCGA.COAD...\n",
      "Unzipping TCGA.COAD...\n",
      "Downloading TCGA.ESCA...\n",
      "Unzipping TCGA.ESCA...\n",
      "Downloading TCGA.HNSC...\n",
      "Unzipping TCGA.HNSC...\n",
      "Downloading TCGA.KIRC...\n",
      "Unzipping TCGA.KIRC...\n",
      "Downloading TCGA.LGG...\n",
      "Unzipping TCGA.LGG...\n",
      "Downloading TCGA.LUAD...\n",
      "Unzipping TCGA.LUAD...\n",
      "Downloading TCGA.MESO...\n",
      "Unzipping TCGA.MESO...\n",
      "Downloading TCGA.PAAD...\n",
      "Unzipping TCGA.PAAD...\n",
      "Downloading TCGA.PRAD...\n",
      "Unzipping TCGA.PRAD...\n",
      "Downloading TCGA.SARC...\n",
      "Unzipping TCGA.SARC...\n",
      "Downloading TCGA.STAD...\n",
      "Unzipping TCGA.STAD...\n",
      "Downloading TCGA.THCA...\n",
      "Unzipping TCGA.THCA...\n",
      "Downloading TCGA.UCEC...\n",
      "Unzipping TCGA.UCEC...\n",
      "Downloading TCGA.UVM...\n",
      "Unzipping TCGA.UVM...\n",
      "Downloading TCGA.BLCA...\n",
      "Unzipping TCGA.BLCA...\n",
      "Downloading TCGA.CHOL...\n",
      "Unzipping TCGA.CHOL...\n",
      "Downloading TCGA.DLBC...\n",
      "Unzipping TCGA.DLBC...\n",
      "Downloading TCGA.GBM...\n",
      "Unzipping TCGA.GBM...\n",
      "Downloading TCGA.KICH...\n",
      "Unzipping TCGA.KICH...\n",
      "Downloading TCGA.KIRP...\n",
      "Unzipping TCGA.KIRP...\n",
      "Downloading TCGA.LIHC...\n",
      "Unzipping TCGA.LIHC...\n",
      "Downloading TCGA.LUSC...\n",
      "Unzipping TCGA.LUSC...\n",
      "Downloading TCGA.OV...\n",
      "Unzipping TCGA.OV...\n",
      "Downloading TCGA.PCPG...\n",
      "Unzipping TCGA.PCPG...\n",
      "Downloading TCGA.READ...\n",
      "Unzipping TCGA.READ...\n",
      "Downloading TCGA.SKCM...\n",
      "Unzipping TCGA.SKCM...\n",
      "Downloading TCGA.TGCT...\n",
      "Unzipping TCGA.TGCT...\n",
      "Downloading TCGA.THYM...\n",
      "Unzipping TCGA.THYM...\n",
      "Downloading TCGA.UCS...\n",
      "Unzipping TCGA.UCS...\n"
     ]
    }
   ],
   "source": [
    "project_list = [p.replace('-', '.') for p in project_list]\n",
    "for project in project_list:\n",
    "    url = f\"https://tcga-xena-hub.s3.us-east-1.amazonaws.com/download/{project}.sampleMap%2FHiSeqV2_PANCAN.gz\"\n",
    "    out_gz = f\"./data_rna/HiSeqV2_PANCAN_{project}.gz\"\n",
    "    out_txt = out_gz.replace(\".gz\", \"\")\n",
    "\n",
    "    print(f\"Downloading {project}...\")\n",
    "    os.system(f\"curl -s -o {out_gz} '{url}'\")\n",
    "\n",
    "    if os.path.exists(out_gz):\n",
    "        print(f\"Unzipping {project}...\")\n",
    "        os.system(f\"gunzip -f {out_gz}\")\n",
    "    else:\n",
    "        print(f\"Failed to download {project}.\")"
   ]
  },
  {
   "cell_type": "code",
   "execution_count": 45,
   "id": "1131d875-3195-4bee-93ac-566506f358c5",
   "metadata": {},
   "outputs": [],
   "source": [
    "rna_dataframe = []\n",
    "for subproject in os.listdir('data_rna'):\n",
    "    temp_df = pd.read_csv(os.path.join('data_rna', subproject), sep='\\t').T\n",
    "    temp_df.columns = temp_df.iloc[0]\n",
    "    rna_dataframe.append(temp_df[1:])"
   ]
  },
  {
   "cell_type": "code",
   "execution_count": 46,
   "id": "c6e9ef0d-49d3-4184-aa7b-d8f98e6fbab1",
   "metadata": {},
   "outputs": [],
   "source": [
    "rna_dataframe = pd.concat(rna_dataframe)"
   ]
  },
  {
   "cell_type": "code",
   "execution_count": 47,
   "id": "3537ff15-9af6-4ed4-a652-a9e510216b1d",
   "metadata": {},
   "outputs": [],
   "source": [
    "rna_dataframe['patient_id'] = rna_dataframe.index\n",
    "rna_dataframe['patient_id'] = rna_dataframe['patient_id'].apply(lambda x: str(x)[:-3])\n",
    "rna_dataframe['is_01'] = rna_dataframe.index.str.endswith('-01')"
   ]
  },
  {
   "cell_type": "code",
   "execution_count": 48,
   "id": "4c874dad-d2a9-4eaa-b76a-744693ee2429",
   "metadata": {},
   "outputs": [],
   "source": [
    "rna_dataframe = rna_dataframe.sort_values(by=['patient_id', 'is_01'], ascending=[True, False])"
   ]
  },
  {
   "cell_type": "code",
   "execution_count": 49,
   "id": "ec007510-2942-4935-ba0c-a14d866e41cb",
   "metadata": {},
   "outputs": [],
   "source": [
    "rna_dataframe = rna_dataframe.drop_duplicates(subset='patient_id', keep='first')"
   ]
  },
  {
   "cell_type": "code",
   "execution_count": 50,
   "id": "1c24ed54-7b6e-42eb-b807-db52ad0f73c4",
   "metadata": {},
   "outputs": [],
   "source": [
    "rna_dataframe = rna_dataframe.set_index('patient_id')\n",
    "rna_dataframe.drop(columns=['is_01'], inplace=True)"
   ]
  },
  {
   "cell_type": "code",
   "execution_count": 51,
   "id": "d56b87c8-b6aa-4100-b31f-a880c628fc03",
   "metadata": {},
   "outputs": [],
   "source": [
    "rna_present = pd.DataFrame({\n",
    "    'submitter_id': rna_dataframe.index,\n",
    "    'rna': ['yes'] * len(rna_dataframe)\n",
    "})"
   ]
  },
  {
   "cell_type": "code",
   "execution_count": 52,
   "id": "10d32029-0501-4428-8b70-3ad9197eba0c",
   "metadata": {},
   "outputs": [
    {
     "data": {
      "text/html": [
       "<div>\n",
       "<style scoped>\n",
       "    .dataframe tbody tr th:only-of-type {\n",
       "        vertical-align: middle;\n",
       "    }\n",
       "\n",
       "    .dataframe tbody tr th {\n",
       "        vertical-align: top;\n",
       "    }\n",
       "\n",
       "    .dataframe thead th {\n",
       "        text-align: right;\n",
       "    }\n",
       "</style>\n",
       "<table border=\"1\" class=\"dataframe\">\n",
       "  <thead>\n",
       "    <tr style=\"text-align: right;\">\n",
       "      <th></th>\n",
       "      <th>submitter_id</th>\n",
       "      <th>project_id</th>\n",
       "      <th>gender</th>\n",
       "      <th>race</th>\n",
       "      <th>age_at_diagnosis</th>\n",
       "      <th>prior_malignancy</th>\n",
       "      <th>prior_treatment</th>\n",
       "      <th>synchronous_malignancy</th>\n",
       "      <th>tumor_stage</th>\n",
       "      <th>treatments_pharmaceutical_treatment_or_therapy</th>\n",
       "      <th>...</th>\n",
       "      <th>censorship</th>\n",
       "      <th>age</th>\n",
       "      <th>site</th>\n",
       "      <th>oncotree_code</th>\n",
       "      <th>survival_months_dss</th>\n",
       "      <th>censorship_dss</th>\n",
       "      <th>response</th>\n",
       "      <th>WSI</th>\n",
       "      <th>split</th>\n",
       "      <th>rna</th>\n",
       "    </tr>\n",
       "  </thead>\n",
       "  <tbody>\n",
       "    <tr>\n",
       "      <th>0</th>\n",
       "      <td>TCGA-DD-AAVP</td>\n",
       "      <td>TCGA-LIHC</td>\n",
       "      <td>male</td>\n",
       "      <td>asian</td>\n",
       "      <td>17833</td>\n",
       "      <td>no</td>\n",
       "      <td>No</td>\n",
       "      <td>No</td>\n",
       "      <td>stage i</td>\n",
       "      <td>no</td>\n",
       "      <td>...</td>\n",
       "      <td>NaN</td>\n",
       "      <td>NaN</td>\n",
       "      <td>NaN</td>\n",
       "      <td>NaN</td>\n",
       "      <td>NaN</td>\n",
       "      <td>NaN</td>\n",
       "      <td>NaN</td>\n",
       "      <td>[UNI2-h_features/TCGA/TCGA-LIHC/TCGA-DD-AAVP-0...</td>\n",
       "      <td>pretrain</td>\n",
       "      <td>yes</td>\n",
       "    </tr>\n",
       "    <tr>\n",
       "      <th>1</th>\n",
       "      <td>TCGA-KK-A7B2</td>\n",
       "      <td>TCGA-PRAD</td>\n",
       "      <td>male</td>\n",
       "      <td>white</td>\n",
       "      <td>24845</td>\n",
       "      <td>no</td>\n",
       "      <td>No</td>\n",
       "      <td>No</td>\n",
       "      <td>NaN</td>\n",
       "      <td>no</td>\n",
       "      <td>...</td>\n",
       "      <td>NaN</td>\n",
       "      <td>NaN</td>\n",
       "      <td>NaN</td>\n",
       "      <td>NaN</td>\n",
       "      <td>NaN</td>\n",
       "      <td>NaN</td>\n",
       "      <td>NaN</td>\n",
       "      <td>[UNI2-h_features/TCGA/TCGA-PRAD/TCGA-KK-A7B2-0...</td>\n",
       "      <td>fine-tune</td>\n",
       "      <td>yes</td>\n",
       "    </tr>\n",
       "    <tr>\n",
       "      <th>2</th>\n",
       "      <td>TCGA-DC-6158</td>\n",
       "      <td>TCGA-READ</td>\n",
       "      <td>male</td>\n",
       "      <td>white</td>\n",
       "      <td>25842</td>\n",
       "      <td>no</td>\n",
       "      <td>No</td>\n",
       "      <td>No</td>\n",
       "      <td>stage i</td>\n",
       "      <td>no</td>\n",
       "      <td>...</td>\n",
       "      <td>0.0</td>\n",
       "      <td>70.0</td>\n",
       "      <td>DC</td>\n",
       "      <td>READ</td>\n",
       "      <td>11.133333</td>\n",
       "      <td>1.0</td>\n",
       "      <td>NaN</td>\n",
       "      <td>[UNI2-h_features/TCGA/TCGA-READ/TCGA-DC-6158-0...</td>\n",
       "      <td>pretrain</td>\n",
       "      <td>yes</td>\n",
       "    </tr>\n",
       "    <tr>\n",
       "      <th>3</th>\n",
       "      <td>TCGA-DD-A4NP</td>\n",
       "      <td>TCGA-LIHC</td>\n",
       "      <td>male</td>\n",
       "      <td>white</td>\n",
       "      <td>13124</td>\n",
       "      <td>NaN</td>\n",
       "      <td>Yes</td>\n",
       "      <td>NaN</td>\n",
       "      <td>stage i</td>\n",
       "      <td>no</td>\n",
       "      <td>...</td>\n",
       "      <td>NaN</td>\n",
       "      <td>NaN</td>\n",
       "      <td>NaN</td>\n",
       "      <td>NaN</td>\n",
       "      <td>NaN</td>\n",
       "      <td>NaN</td>\n",
       "      <td>NaN</td>\n",
       "      <td>[UNI2-h_features/TCGA/TCGA-LIHC/TCGA-DD-A4NP-0...</td>\n",
       "      <td>fine-tune</td>\n",
       "      <td>yes</td>\n",
       "    </tr>\n",
       "    <tr>\n",
       "      <th>4</th>\n",
       "      <td>TCGA-HQ-A5ND</td>\n",
       "      <td>TCGA-BLCA</td>\n",
       "      <td>male</td>\n",
       "      <td>not reported</td>\n",
       "      <td>28639</td>\n",
       "      <td>NaN</td>\n",
       "      <td>Yes</td>\n",
       "      <td>NaN</td>\n",
       "      <td>stage iv</td>\n",
       "      <td>no</td>\n",
       "      <td>...</td>\n",
       "      <td>0.0</td>\n",
       "      <td>78.0</td>\n",
       "      <td>HQ</td>\n",
       "      <td>BLCA</td>\n",
       "      <td>9.133333</td>\n",
       "      <td>0.0</td>\n",
       "      <td>NaN</td>\n",
       "      <td>[UNI2-h_features/TCGA/TCGA-BLCA/TCGA-HQ-A5ND-0...</td>\n",
       "      <td>pretrain</td>\n",
       "      <td>yes</td>\n",
       "    </tr>\n",
       "    <tr>\n",
       "      <th>...</th>\n",
       "      <td>...</td>\n",
       "      <td>...</td>\n",
       "      <td>...</td>\n",
       "      <td>...</td>\n",
       "      <td>...</td>\n",
       "      <td>...</td>\n",
       "      <td>...</td>\n",
       "      <td>...</td>\n",
       "      <td>...</td>\n",
       "      <td>...</td>\n",
       "      <td>...</td>\n",
       "      <td>...</td>\n",
       "      <td>...</td>\n",
       "      <td>...</td>\n",
       "      <td>...</td>\n",
       "      <td>...</td>\n",
       "      <td>...</td>\n",
       "      <td>...</td>\n",
       "      <td>...</td>\n",
       "      <td>...</td>\n",
       "      <td>...</td>\n",
       "    </tr>\n",
       "    <tr>\n",
       "      <th>9542</th>\n",
       "      <td>TCGA-XS-A8TJ</td>\n",
       "      <td>TCGA-CESC</td>\n",
       "      <td>female</td>\n",
       "      <td>black or african american</td>\n",
       "      <td>15298</td>\n",
       "      <td>no</td>\n",
       "      <td>No</td>\n",
       "      <td>No</td>\n",
       "      <td>NaN</td>\n",
       "      <td>yes</td>\n",
       "      <td>...</td>\n",
       "      <td>NaN</td>\n",
       "      <td>NaN</td>\n",
       "      <td>NaN</td>\n",
       "      <td>NaN</td>\n",
       "      <td>NaN</td>\n",
       "      <td>NaN</td>\n",
       "      <td>NaN</td>\n",
       "      <td>[UNI2-h_features/TCGA/TCGA-CESC/TCGA-XS-A8TJ-0...</td>\n",
       "      <td>pretrain</td>\n",
       "      <td>yes</td>\n",
       "    </tr>\n",
       "    <tr>\n",
       "      <th>9543</th>\n",
       "      <td>TCGA-BP-4790</td>\n",
       "      <td>TCGA-KIRC</td>\n",
       "      <td>male</td>\n",
       "      <td>white</td>\n",
       "      <td>28076</td>\n",
       "      <td>no</td>\n",
       "      <td>No</td>\n",
       "      <td>No</td>\n",
       "      <td>stage i</td>\n",
       "      <td>no</td>\n",
       "      <td>...</td>\n",
       "      <td>NaN</td>\n",
       "      <td>NaN</td>\n",
       "      <td>NaN</td>\n",
       "      <td>NaN</td>\n",
       "      <td>NaN</td>\n",
       "      <td>NaN</td>\n",
       "      <td>NaN</td>\n",
       "      <td>[UNI2-h_features/TCGA/TCGA-KIRC/TCGA-BP-4790-0...</td>\n",
       "      <td>pretrain</td>\n",
       "      <td>yes</td>\n",
       "    </tr>\n",
       "    <tr>\n",
       "      <th>9544</th>\n",
       "      <td>TCGA-N9-A4Q4</td>\n",
       "      <td>TCGA-UCS</td>\n",
       "      <td>female</td>\n",
       "      <td>black or african american</td>\n",
       "      <td>22575</td>\n",
       "      <td>no</td>\n",
       "      <td>No</td>\n",
       "      <td>No</td>\n",
       "      <td>NaN</td>\n",
       "      <td>NaN</td>\n",
       "      <td>...</td>\n",
       "      <td>NaN</td>\n",
       "      <td>NaN</td>\n",
       "      <td>NaN</td>\n",
       "      <td>NaN</td>\n",
       "      <td>NaN</td>\n",
       "      <td>NaN</td>\n",
       "      <td>NaN</td>\n",
       "      <td>[UNI2-h_features/TCGA/TCGA-UCS/TCGA-N9-A4Q4-01...</td>\n",
       "      <td>fine-tune</td>\n",
       "      <td>yes</td>\n",
       "    </tr>\n",
       "    <tr>\n",
       "      <th>9545</th>\n",
       "      <td>TCGA-RY-A847</td>\n",
       "      <td>TCGA-LGG</td>\n",
       "      <td>male</td>\n",
       "      <td>white</td>\n",
       "      <td>16732</td>\n",
       "      <td>no</td>\n",
       "      <td>No</td>\n",
       "      <td>No</td>\n",
       "      <td>NaN</td>\n",
       "      <td>no</td>\n",
       "      <td>...</td>\n",
       "      <td>1.0</td>\n",
       "      <td>45.0</td>\n",
       "      <td>RY</td>\n",
       "      <td>ODG</td>\n",
       "      <td>NaN</td>\n",
       "      <td>NaN</td>\n",
       "      <td>NaN</td>\n",
       "      <td>[UNI2-h_features/TCGA/TCGA-LGG/TCGA-RY-A847-01...</td>\n",
       "      <td>pretrain</td>\n",
       "      <td>yes</td>\n",
       "    </tr>\n",
       "    <tr>\n",
       "      <th>9546</th>\n",
       "      <td>TCGA-DJ-A4V0</td>\n",
       "      <td>TCGA-THCA</td>\n",
       "      <td>female</td>\n",
       "      <td>asian</td>\n",
       "      <td>13168</td>\n",
       "      <td>no</td>\n",
       "      <td>No</td>\n",
       "      <td>No</td>\n",
       "      <td>stage i</td>\n",
       "      <td>no</td>\n",
       "      <td>...</td>\n",
       "      <td>NaN</td>\n",
       "      <td>NaN</td>\n",
       "      <td>NaN</td>\n",
       "      <td>NaN</td>\n",
       "      <td>NaN</td>\n",
       "      <td>NaN</td>\n",
       "      <td>NaN</td>\n",
       "      <td>[UNI2-h_features/TCGA/TCGA-THCA/TCGA-DJ-A4V0-0...</td>\n",
       "      <td>pretrain</td>\n",
       "      <td>yes</td>\n",
       "    </tr>\n",
       "  </tbody>\n",
       "</table>\n",
       "<p>9547 rows × 31 columns</p>\n",
       "</div>"
      ],
      "text/plain": [
       "      submitter_id project_id  gender                       race  \\\n",
       "0     TCGA-DD-AAVP  TCGA-LIHC    male                      asian   \n",
       "1     TCGA-KK-A7B2  TCGA-PRAD    male                      white   \n",
       "2     TCGA-DC-6158  TCGA-READ    male                      white   \n",
       "3     TCGA-DD-A4NP  TCGA-LIHC    male                      white   \n",
       "4     TCGA-HQ-A5ND  TCGA-BLCA    male               not reported   \n",
       "...            ...        ...     ...                        ...   \n",
       "9542  TCGA-XS-A8TJ  TCGA-CESC  female  black or african american   \n",
       "9543  TCGA-BP-4790  TCGA-KIRC    male                      white   \n",
       "9544  TCGA-N9-A4Q4   TCGA-UCS  female  black or african american   \n",
       "9545  TCGA-RY-A847   TCGA-LGG    male                      white   \n",
       "9546  TCGA-DJ-A4V0  TCGA-THCA  female                      asian   \n",
       "\n",
       "     age_at_diagnosis prior_malignancy prior_treatment synchronous_malignancy  \\\n",
       "0               17833               no              No                     No   \n",
       "1               24845               no              No                     No   \n",
       "2               25842               no              No                     No   \n",
       "3               13124              NaN             Yes                    NaN   \n",
       "4               28639              NaN             Yes                    NaN   \n",
       "...               ...              ...             ...                    ...   \n",
       "9542            15298               no              No                     No   \n",
       "9543            28076               no              No                     No   \n",
       "9544            22575               no              No                     No   \n",
       "9545            16732               no              No                     No   \n",
       "9546            13168               no              No                     No   \n",
       "\n",
       "     tumor_stage treatments_pharmaceutical_treatment_or_therapy  ...  \\\n",
       "0        stage i                                             no  ...   \n",
       "1            NaN                                             no  ...   \n",
       "2        stage i                                             no  ...   \n",
       "3        stage i                                             no  ...   \n",
       "4       stage iv                                             no  ...   \n",
       "...          ...                                            ...  ...   \n",
       "9542         NaN                                            yes  ...   \n",
       "9543     stage i                                             no  ...   \n",
       "9544         NaN                                            NaN  ...   \n",
       "9545         NaN                                             no  ...   \n",
       "9546     stage i                                             no  ...   \n",
       "\n",
       "     censorship   age site oncotree_code survival_months_dss censorship_dss  \\\n",
       "0           NaN   NaN  NaN           NaN                 NaN            NaN   \n",
       "1           NaN   NaN  NaN           NaN                 NaN            NaN   \n",
       "2           0.0  70.0   DC          READ           11.133333            1.0   \n",
       "3           NaN   NaN  NaN           NaN                 NaN            NaN   \n",
       "4           0.0  78.0   HQ          BLCA            9.133333            0.0   \n",
       "...         ...   ...  ...           ...                 ...            ...   \n",
       "9542        NaN   NaN  NaN           NaN                 NaN            NaN   \n",
       "9543        NaN   NaN  NaN           NaN                 NaN            NaN   \n",
       "9544        NaN   NaN  NaN           NaN                 NaN            NaN   \n",
       "9545        1.0  45.0   RY           ODG                 NaN            NaN   \n",
       "9546        NaN   NaN  NaN           NaN                 NaN            NaN   \n",
       "\n",
       "     response                                                WSI      split  \\\n",
       "0         NaN  [UNI2-h_features/TCGA/TCGA-LIHC/TCGA-DD-AAVP-0...   pretrain   \n",
       "1         NaN  [UNI2-h_features/TCGA/TCGA-PRAD/TCGA-KK-A7B2-0...  fine-tune   \n",
       "2         NaN  [UNI2-h_features/TCGA/TCGA-READ/TCGA-DC-6158-0...   pretrain   \n",
       "3         NaN  [UNI2-h_features/TCGA/TCGA-LIHC/TCGA-DD-A4NP-0...  fine-tune   \n",
       "4         NaN  [UNI2-h_features/TCGA/TCGA-BLCA/TCGA-HQ-A5ND-0...   pretrain   \n",
       "...       ...                                                ...        ...   \n",
       "9542      NaN  [UNI2-h_features/TCGA/TCGA-CESC/TCGA-XS-A8TJ-0...   pretrain   \n",
       "9543      NaN  [UNI2-h_features/TCGA/TCGA-KIRC/TCGA-BP-4790-0...   pretrain   \n",
       "9544      NaN  [UNI2-h_features/TCGA/TCGA-UCS/TCGA-N9-A4Q4-01...  fine-tune   \n",
       "9545      NaN  [UNI2-h_features/TCGA/TCGA-LGG/TCGA-RY-A847-01...   pretrain   \n",
       "9546      NaN  [UNI2-h_features/TCGA/TCGA-THCA/TCGA-DJ-A4V0-0...   pretrain   \n",
       "\n",
       "      rna  \n",
       "0     yes  \n",
       "1     yes  \n",
       "2     yes  \n",
       "3     yes  \n",
       "4     yes  \n",
       "...   ...  \n",
       "9542  yes  \n",
       "9543  yes  \n",
       "9544  yes  \n",
       "9545  yes  \n",
       "9546  yes  \n",
       "\n",
       "[9547 rows x 31 columns]"
      ]
     },
     "execution_count": 52,
     "metadata": {},
     "output_type": "execute_result"
    }
   ],
   "source": [
    "clinical_tcga = clinical_tcga.merge(rna_present, how='left', on='submitter_id')\n",
    "clinical_tcga"
   ]
  },
  {
   "cell_type": "code",
   "execution_count": 53,
   "id": "1955b115-cd91-4659-9606-9fa4c0506a9a",
   "metadata": {},
   "outputs": [],
   "source": [
    "rna_dataframe = rna_dataframe[rna_dataframe.index.isin(clinical_tcga.submitter_id)]"
   ]
  },
  {
   "cell_type": "markdown",
   "id": "28152896-7b18-471a-805c-4fbed0451f91",
   "metadata": {},
   "source": [
    "# Keep only based on RNA pathways"
   ]
  },
  {
   "cell_type": "code",
   "execution_count": 54,
   "id": "0ee35b27-f696-45db-9d57-995508a07a23",
   "metadata": {},
   "outputs": [],
   "source": [
    "hallmarks = pd.read_csv('pathways/hallmarks_comps.csv').rename(columns={'Unnamed: 0': 'gene'})\n",
    "hallmarks_intersection = list(set(hallmarks.iloc[:, 0]) & set(rna_dataframe.columns))"
   ]
  },
  {
   "cell_type": "code",
   "execution_count": 55,
   "id": "f100bc89-110d-4a10-aced-52c43f26ca38",
   "metadata": {},
   "outputs": [],
   "source": [
    "rna_dataframe_hallmarks = rna_dataframe[hallmarks_intersection]"
   ]
  },
  {
   "cell_type": "markdown",
   "id": "65a98d13-33fe-4b93-9253-300bb2f9bf67",
   "metadata": {},
   "source": [
    "### Save pathways mappings"
   ]
  },
  {
   "cell_type": "code",
   "execution_count": 57,
   "id": "8d16a5ab-f072-447a-ba7e-2b6744aad38d",
   "metadata": {},
   "outputs": [],
   "source": [
    "hallmarks_genes = {}\n",
    "for column in hallmarks.columns:\n",
    "    if column == 'gene':\n",
    "        continue\n",
    "    genes = hallmarks.gene[hallmarks[column] == 1].tolist()\n",
    "    genes = [gene for gene in genes if gene in list(hallmarks_intersection)]\n",
    "    hallmarks_genes[column] = genes"
   ]
  },
  {
   "cell_type": "code",
   "execution_count": 60,
   "id": "8e667817-2734-49ad-9071-54d1c059337e",
   "metadata": {},
   "outputs": [],
   "source": [
    "with open('mappings/hallmarks_genes.json', 'w') as f:\n",
    "    # write the dictionary to the file in JSON format\n",
    "    json.dump(hallmarks_genes, f)"
   ]
  },
  {
   "cell_type": "markdown",
   "id": "ce2d67d8-d75c-4148-863d-4f5c5c647b3f",
   "metadata": {},
   "source": [
    "# 5. Copy Number Variations (CNV) <a name=\"p5\"></a>"
   ]
  },
  {
   "cell_type": "code",
   "execution_count": 151,
   "id": "cc0b76ea-4565-43cb-a6bc-b36219b331b1",
   "metadata": {},
   "outputs": [
    {
     "name": "stdout",
     "output_type": "stream",
     "text": [
      "CPU times: user 391 ms, sys: 69 ms, total: 460 ms\n",
      "Wall time: 1min 12s\n"
     ]
    },
    {
     "data": {
      "text/plain": [
       "(147734, 7)"
      ]
     },
     "execution_count": 151,
     "metadata": {},
     "output_type": "execute_result"
    }
   ],
   "source": [
    "%%time\n",
    "CNV_files = request_file_info(data_type='Genotyping Array')\n",
    "CNV_files.shape"
   ]
  },
  {
   "cell_type": "code",
   "execution_count": 152,
   "id": "24465340-099e-4bb9-8339-0cacabaffc3e",
   "metadata": {},
   "outputs": [
    {
     "data": {
      "text/plain": [
       "(11104, 7)"
      ]
     },
     "execution_count": 152,
     "metadata": {},
     "output_type": "execute_result"
    }
   ],
   "source": [
    "CNV_files = CNV_files[CNV_files['cases.0.project.project_id'].str.startswith('TCGA')]\n",
    "CNV_files = CNV_files[CNV_files['file_name'].str.endswith('gene_level_copy_number.v36.tsv')]\n",
    "CNV_files = CNV_files[~CNV_files[\"file_name\"].str.contains(\"absolute_liftover\", na=False)]\n",
    "CNV_files = CNV_files[~CNV_files[\"file_name\"].str.contains(\"ascat3\", na=False)]\n",
    "CNV_files.shape"
   ]
  },
  {
   "cell_type": "code",
   "execution_count": 153,
   "id": "94abb7a1-8421-405b-9dc2-5fdd91925c3c",
   "metadata": {},
   "outputs": [
    {
     "name": "stdout",
     "output_type": "stream",
     "text": [
      "All rows:        11104\n",
      "Unique patients: 10763\n"
     ]
    }
   ],
   "source": [
    "print('All rows:       ', CNV_files.shape[0])\n",
    "print('Unique patients:', CNV_files['cases.0.submitter_id'].unique().shape[0])"
   ]
  },
  {
   "cell_type": "code",
   "execution_count": 154,
   "id": "79311de9-b5bc-40fb-bdd9-ff1e6e363db7",
   "metadata": {},
   "outputs": [
    {
     "name": "stderr",
     "output_type": "stream",
     "text": [
      "/tmp/ipykernel_3256672/1562612416.py:2: DeprecationWarning: DataFrameGroupBy.apply operated on the grouping columns. This behavior is deprecated, and in a future version of pandas the grouping columns will be excluded from the operation. Either pass `include_groups=False` to exclude the groupings or explicitly select the grouping columns after groupby to silence this warning.\n",
      "  CNV_files = CNV_files.groupby('cases.0.submitter_id', group_keys=False).apply(select_primary).reset_index(drop=True)\n"
     ]
    }
   ],
   "source": [
    "# select primary if possible\n",
    "CNV_files = CNV_files.groupby('cases.0.submitter_id', group_keys=False).apply(select_primary).reset_index(drop=True)"
   ]
  },
  {
   "cell_type": "code",
   "execution_count": 155,
   "id": "ddace25c-f14f-45b7-a76e-21c4564adf59",
   "metadata": {},
   "outputs": [
    {
     "name": "stdout",
     "output_type": "stream",
     "text": [
      "All rows:        10763\n",
      "Unique patients: 10763\n"
     ]
    }
   ],
   "source": [
    "print('All rows:       ', CNV_files.shape[0])\n",
    "print('Unique patients:', CNV_files['cases.0.submitter_id'].unique().shape[0])"
   ]
  },
  {
   "cell_type": "code",
   "execution_count": 156,
   "id": "763fc7ad-5a8c-442b-ae89-bbdb9e4e8fd9",
   "metadata": {},
   "outputs": [],
   "source": [
    "base_path_cnv = '/path/to/your/cnv/'\n",
    "cnv_mapping = make_patient_file_map(CNV_files, base_path_cnv)"
   ]
  },
  {
   "cell_type": "code",
   "execution_count": 157,
   "id": "a3ba0a32-a1b9-45b1-af45-7b270eea7847",
   "metadata": {},
   "outputs": [],
   "source": [
    "# get protein coding genes\n",
    "sample = pd.read_csv('./rna_sample/66e79734-9053-4f61-9a32-bee376f5dab0/a4a57e8f-cf4f-4322-b7fe-2336a58cd50f.rna_seq.augmented_star_gene_counts.tsv', sep='\\t',skiprows=6, names=['gene_id', 'gene_name','gene_type', 'unstranded', 'stranded_first', 'stranded_second', \t'tpm_unstranded', 'fpkm_unstranded', 'fpkm_uq_unstranded'])\n",
    "protein_coding_genes = sample[sample.gene_type == 'protein_coding'].gene_name.values.tolist()\n"
   ]
  },
  {
   "cell_type": "code",
   "execution_count": 159,
   "id": "a36a786d-aba2-4c62-9133-93fa09cd1f2e",
   "metadata": {},
   "outputs": [
    {
     "name": "stderr",
     "output_type": "stream",
     "text": [
      "100%|████████████████████████████████████████████████████████████████████████████████████████████████████████████████████████████████████████████████████████████████| 10761/10761 [13:15<00:00, 13.52it/s]\n"
     ]
    }
   ],
   "source": [
    "def drop_duplicates_prioritize_non_nan(df, column=\"gene_name\"):\n",
    "    \"\"\"\n",
    "    Drops duplicates in a specified column, prioritizing non-NaN values.\n",
    "    If all duplicates are NaN, keeps only one.\n",
    "    Preserves the original order.\n",
    "    \"\"\"\n",
    "    # Identify duplicates\n",
    "    mask = df.duplicated(subset=[column], keep=False)\n",
    "\n",
    "    # Separate duplicated and unique rows\n",
    "    duplicated_rows = df[mask]\n",
    "    unique_rows = df[~mask]\n",
    "\n",
    "    # Within duplicates, keep first non-NaN value, otherwise first occurrence\n",
    "    cleaned_duplicates = (\n",
    "        duplicated_rows.sort_values(by=column, key=lambda x: x.notna(), ascending=False)\n",
    "        .drop_duplicates(subset=[column], keep=\"first\")\n",
    "    )\n",
    "\n",
    "    # Concatenate unique rows with cleaned duplicates and restore order\n",
    "    cleaned_df = pd.concat([unique_rows, cleaned_duplicates]).sort_index()\n",
    "\n",
    "    return cleaned_df\n",
    "    \n",
    "# keep only protein coding gene\n",
    "output_path = 'path/to/put/preprocessed/omics_data/TCGA/CNV/'\n",
    "\n",
    "if not os.path.exists(output_path):\n",
    "    os.makedirs(output_path)\n",
    "\n",
    "for patient, filepath in tqdm.tqdm(cnv_mapping.items()):\n",
    "    idx, filename = filepath.split('/')[-2:]\n",
    "    if not os.path.exists(os.path.join(output_path, idx)):\n",
    "        os.makedirs(os.path.join(output_path, idx))\n",
    "\n",
    "    temp_df = pd.read_csv(filepath, sep='\\t')[['gene_id', 'gene_name', 'copy_number']]\n",
    "    temp_df = temp_df[temp_df.gene_name.isin(protein_coding_genes)]\n",
    "    temp_df = drop_duplicates_prioritize_non_nan(temp_df)\n",
    "    temp_df.to_csv(os.path.join(output_path, idx, filename.replace('tsv', 'csv')))"
   ]
  },
  {
   "cell_type": "code",
   "execution_count": 160,
   "id": "049bee7e-129d-4b02-9b68-4fd9a81e1ff2",
   "metadata": {},
   "outputs": [],
   "source": [
    "# upate cnv_mapping\n",
    "cnv_mapping = {k: v.replace(base_path_cnv, output_path).replace('tsv', 'csv') for k, v in cnv_mapping.items()}"
   ]
  },
  {
   "cell_type": "code",
   "execution_count": 166,
   "id": "1c4be584-33d0-4872-9d72-c5392c21ad70",
   "metadata": {},
   "outputs": [],
   "source": [
    "CNV_mapping = pd.DataFrame([(k, 'yes') for k in cnv_mapping.keys()], columns=('submitter_id', 'cnv'))\n",
    "clinical_tcga = clinical_tcga.merge(CNV_mapping, how='left', on='submitter_id')"
   ]
  },
  {
   "cell_type": "code",
   "execution_count": 303,
   "id": "c471ef59-1fe0-4730-9f22-dca2510c9ca9",
   "metadata": {},
   "outputs": [],
   "source": [
    "CNV_mapping_path = pd.DataFrame([(k, v) for k, v in cnv_mapping.items()], columns=('submitter_id', 'cnv_path'))\n",
    "clinical_tcga = clinical_tcga.merge(CNV_mapping_path, how='left', on='submitter_id')"
   ]
  },
  {
   "cell_type": "markdown",
   "id": "3dc82e2a-136e-479a-8ea1-09503138bde9",
   "metadata": {},
   "source": [
    "Now, to group genes together, we propose to do:\n",
    "1. Keep only those with the greatest variance and group them by chromosome (and by position on the chromosome).\n",
    "\n",
    "### 1."
   ]
  },
  {
   "cell_type": "code",
   "execution_count": 310,
   "id": "a969a680-6aea-4b37-85f2-861cdee136f7",
   "metadata": {},
   "outputs": [],
   "source": [
    "subset_pretrain = clinical_tcga[clinical_tcga.split == 'pretrain']\n",
    "full_cnv = pd.concat([pd.read_csv(value, index_col=2).copy_number.rename(key) for key, value in zip(clinical_tcga[clinical_tcga.cnv_path.notna()].submitter_id, clinical_tcga[clinical_tcga.cnv_path.notna()].cnv_path)], axis=1)\n",
    "pretrain_cnv = pd.concat([pd.read_csv(value, index_col=2).copy_number.rename(key) for key, value in zip(subset_pretrain[subset_pretrain.cnv_path.notna()].submitter_id, subset_pretrain[subset_pretrain.cnv_path.notna()].cnv_path)], axis=1)"
   ]
  },
  {
   "cell_type": "code",
   "execution_count": 311,
   "id": "0bdb1caa-49e5-4562-93cc-c8574cd88048",
   "metadata": {},
   "outputs": [
    {
     "data": {
      "text/plain": [
       "((19925, 5254), (19925, 9210))"
      ]
     },
     "execution_count": 311,
     "metadata": {},
     "output_type": "execute_result"
    }
   ],
   "source": [
    "pretrain_cnv.shape, full_cnv.shape"
   ]
  },
  {
   "cell_type": "code",
   "execution_count": 312,
   "id": "a1c80cb2-525f-496e-ba87-745d1fd30395",
   "metadata": {},
   "outputs": [
    {
     "name": "stdout",
     "output_type": "stream",
     "text": [
      "(5254, 19890)\n",
      "(5254, 19890)\n",
      "(5254, 19868)\n"
     ]
    }
   ],
   "source": [
    "pretrain_cnv = pretrain_cnv.T.dropna(axis=1, how=\"all\")\n",
    "print(pretrain_cnv.shape)\n",
    "pretrain_cnv = pretrain_cnv.loc[:, ~pretrain_cnv.columns.duplicated(keep=\"first\")]\n",
    "print(pretrain_cnv.shape)\n",
    "pretrain_cnv = pretrain_cnv.dropna(thresh=pretrain_cnv.shape[0] * 0.99, axis=1)\n",
    "print(pretrain_cnv.shape)"
   ]
  },
  {
   "cell_type": "code",
   "execution_count": 316,
   "id": "8a548daa-8599-42d6-a81d-98f8e1871397",
   "metadata": {},
   "outputs": [],
   "source": [
    "sample = pd.read_csv('samples/TCGA-LUAD.b9aad986-ad82-4366-b51e-8895eff15463.gene_level_copy_number.v36.csv')\n",
    "keep = sample[~sample.chromosome.isin(['chrX', 'chrY'])].gene_name.values.tolist()\n",
    "pretrain_cnv = pretrain_cnv[list(set(pretrain_cnv.columns) & set(keep))]"
   ]
  },
  {
   "cell_type": "code",
   "execution_count": 317,
   "id": "fa7a933b-0a18-4429-a191-f61b436870f4",
   "metadata": {},
   "outputs": [
    {
     "data": {
      "text/plain": [
       "(5254, 18979)"
      ]
     },
     "execution_count": 317,
     "metadata": {},
     "output_type": "execute_result"
    }
   ],
   "source": [
    "pretrain_cnv.shape"
   ]
  },
  {
   "cell_type": "code",
   "execution_count": 318,
   "id": "ce156eee-783f-4cf9-a457-e598f51a3a0b",
   "metadata": {},
   "outputs": [],
   "source": [
    "std_dev = pretrain_cnv.std()\n",
    "std_dev = std_dev.nlargest(6750)"
   ]
  },
  {
   "cell_type": "code",
   "execution_count": 319,
   "id": "554dfa39-39d2-49ae-865f-e544d6486691",
   "metadata": {},
   "outputs": [
    {
     "data": {
      "text/plain": [
       "6750"
      ]
     },
     "execution_count": 319,
     "metadata": {},
     "output_type": "execute_result"
    }
   ],
   "source": [
    "filtered_genes = std_dev.index\n",
    "len(filtered_genes)"
   ]
  },
  {
   "cell_type": "code",
   "execution_count": 320,
   "id": "f90f6c7a-ffe7-4195-aa3c-3775126a1125",
   "metadata": {},
   "outputs": [],
   "source": [
    "sample = sample[sample.gene_name.isin(filtered_genes)]"
   ]
  },
  {
   "cell_type": "code",
   "execution_count": 276,
   "id": "195b3f96-9437-45f6-8535-34641a4b37ec",
   "metadata": {},
   "outputs": [],
   "source": [
    "chromosomes_cluster = {\n",
    "    'chr1': 7,\n",
    "    'chr7': 6,\n",
    "    'chr3': 4,\n",
    "    'chr4;chr5': 1,\n",
    "    'chr17': 4,\n",
    "    'chr8': 4,\n",
    "    'chr20': 4,\n",
    "    'chr12': 3,\n",
    "    'chr2;chr22;chr21': 1,\n",
    "    'chr14;chr15;chr16': 1,\n",
    "    'chr19': 3,\n",
    "    'chr6': 2,\n",
    "    'chr11': 2,\n",
    "    'chr13': 1,\n",
    "    'chr9;chr10': 1,\n",
    "    'chr18': 1,\n",
    "}    "
   ]
  },
  {
   "cell_type": "code",
   "execution_count": 321,
   "id": "ffbd2f81-a99c-4762-bde7-da13aaff8060",
   "metadata": {},
   "outputs": [
    {
     "name": "stderr",
     "output_type": "stream",
     "text": [
      "/tmp/ipykernel_3256672/3314043594.py:8: SettingWithCopyWarning: \n",
      "A value is trying to be set on a copy of a slice from a DataFrame\n",
      "\n",
      "See the caveats in the documentation: https://pandas.pydata.org/pandas-docs/stable/user_guide/indexing.html#returning-a-view-versus-a-copy\n",
      "  chrom_data.sort_values(by=\"start\", inplace=True)\n",
      "/tmp/ipykernel_3256672/3314043594.py:10: SettingWithCopyWarning: \n",
      "A value is trying to be set on a copy of a slice from a DataFrame.\n",
      "Try using .loc[row_indexer,col_indexer] = value instead\n",
      "\n",
      "See the caveats in the documentation: https://pandas.pydata.org/pandas-docs/stable/user_guide/indexing.html#returning-a-view-versus-a-copy\n",
      "  chrom_data[\"cluster\"] = np.repeat(range(1, clusters + 1), np.ceil(len(chrom_data) / clusters))[:len(chrom_data)]\n",
      "/tmp/ipykernel_3256672/3314043594.py:8: SettingWithCopyWarning: \n",
      "A value is trying to be set on a copy of a slice from a DataFrame\n",
      "\n",
      "See the caveats in the documentation: https://pandas.pydata.org/pandas-docs/stable/user_guide/indexing.html#returning-a-view-versus-a-copy\n",
      "  chrom_data.sort_values(by=\"start\", inplace=True)\n",
      "/tmp/ipykernel_3256672/3314043594.py:10: SettingWithCopyWarning: \n",
      "A value is trying to be set on a copy of a slice from a DataFrame.\n",
      "Try using .loc[row_indexer,col_indexer] = value instead\n",
      "\n",
      "See the caveats in the documentation: https://pandas.pydata.org/pandas-docs/stable/user_guide/indexing.html#returning-a-view-versus-a-copy\n",
      "  chrom_data[\"cluster\"] = np.repeat(range(1, clusters + 1), np.ceil(len(chrom_data) / clusters))[:len(chrom_data)]\n",
      "/tmp/ipykernel_3256672/3314043594.py:8: SettingWithCopyWarning: \n",
      "A value is trying to be set on a copy of a slice from a DataFrame\n",
      "\n",
      "See the caveats in the documentation: https://pandas.pydata.org/pandas-docs/stable/user_guide/indexing.html#returning-a-view-versus-a-copy\n",
      "  chrom_data.sort_values(by=\"start\", inplace=True)\n",
      "/tmp/ipykernel_3256672/3314043594.py:10: SettingWithCopyWarning: \n",
      "A value is trying to be set on a copy of a slice from a DataFrame.\n",
      "Try using .loc[row_indexer,col_indexer] = value instead\n",
      "\n",
      "See the caveats in the documentation: https://pandas.pydata.org/pandas-docs/stable/user_guide/indexing.html#returning-a-view-versus-a-copy\n",
      "  chrom_data[\"cluster\"] = np.repeat(range(1, clusters + 1), np.ceil(len(chrom_data) / clusters))[:len(chrom_data)]\n",
      "/tmp/ipykernel_3256672/3314043594.py:8: SettingWithCopyWarning: \n",
      "A value is trying to be set on a copy of a slice from a DataFrame\n",
      "\n",
      "See the caveats in the documentation: https://pandas.pydata.org/pandas-docs/stable/user_guide/indexing.html#returning-a-view-versus-a-copy\n",
      "  chrom_data.sort_values(by=\"start\", inplace=True)\n",
      "/tmp/ipykernel_3256672/3314043594.py:10: SettingWithCopyWarning: \n",
      "A value is trying to be set on a copy of a slice from a DataFrame.\n",
      "Try using .loc[row_indexer,col_indexer] = value instead\n",
      "\n",
      "See the caveats in the documentation: https://pandas.pydata.org/pandas-docs/stable/user_guide/indexing.html#returning-a-view-versus-a-copy\n",
      "  chrom_data[\"cluster\"] = np.repeat(range(1, clusters + 1), np.ceil(len(chrom_data) / clusters))[:len(chrom_data)]\n",
      "/tmp/ipykernel_3256672/3314043594.py:8: SettingWithCopyWarning: \n",
      "A value is trying to be set on a copy of a slice from a DataFrame\n",
      "\n",
      "See the caveats in the documentation: https://pandas.pydata.org/pandas-docs/stable/user_guide/indexing.html#returning-a-view-versus-a-copy\n",
      "  chrom_data.sort_values(by=\"start\", inplace=True)\n",
      "/tmp/ipykernel_3256672/3314043594.py:10: SettingWithCopyWarning: \n",
      "A value is trying to be set on a copy of a slice from a DataFrame.\n",
      "Try using .loc[row_indexer,col_indexer] = value instead\n",
      "\n",
      "See the caveats in the documentation: https://pandas.pydata.org/pandas-docs/stable/user_guide/indexing.html#returning-a-view-versus-a-copy\n",
      "  chrom_data[\"cluster\"] = np.repeat(range(1, clusters + 1), np.ceil(len(chrom_data) / clusters))[:len(chrom_data)]\n",
      "/tmp/ipykernel_3256672/3314043594.py:8: SettingWithCopyWarning: \n",
      "A value is trying to be set on a copy of a slice from a DataFrame\n",
      "\n",
      "See the caveats in the documentation: https://pandas.pydata.org/pandas-docs/stable/user_guide/indexing.html#returning-a-view-versus-a-copy\n",
      "  chrom_data.sort_values(by=\"start\", inplace=True)\n",
      "/tmp/ipykernel_3256672/3314043594.py:10: SettingWithCopyWarning: \n",
      "A value is trying to be set on a copy of a slice from a DataFrame.\n",
      "Try using .loc[row_indexer,col_indexer] = value instead\n",
      "\n",
      "See the caveats in the documentation: https://pandas.pydata.org/pandas-docs/stable/user_guide/indexing.html#returning-a-view-versus-a-copy\n",
      "  chrom_data[\"cluster\"] = np.repeat(range(1, clusters + 1), np.ceil(len(chrom_data) / clusters))[:len(chrom_data)]\n",
      "/tmp/ipykernel_3256672/3314043594.py:8: SettingWithCopyWarning: \n",
      "A value is trying to be set on a copy of a slice from a DataFrame\n",
      "\n",
      "See the caveats in the documentation: https://pandas.pydata.org/pandas-docs/stable/user_guide/indexing.html#returning-a-view-versus-a-copy\n",
      "  chrom_data.sort_values(by=\"start\", inplace=True)\n",
      "/tmp/ipykernel_3256672/3314043594.py:10: SettingWithCopyWarning: \n",
      "A value is trying to be set on a copy of a slice from a DataFrame.\n",
      "Try using .loc[row_indexer,col_indexer] = value instead\n",
      "\n",
      "See the caveats in the documentation: https://pandas.pydata.org/pandas-docs/stable/user_guide/indexing.html#returning-a-view-versus-a-copy\n",
      "  chrom_data[\"cluster\"] = np.repeat(range(1, clusters + 1), np.ceil(len(chrom_data) / clusters))[:len(chrom_data)]\n",
      "/tmp/ipykernel_3256672/3314043594.py:8: SettingWithCopyWarning: \n",
      "A value is trying to be set on a copy of a slice from a DataFrame\n",
      "\n",
      "See the caveats in the documentation: https://pandas.pydata.org/pandas-docs/stable/user_guide/indexing.html#returning-a-view-versus-a-copy\n",
      "  chrom_data.sort_values(by=\"start\", inplace=True)\n",
      "/tmp/ipykernel_3256672/3314043594.py:10: SettingWithCopyWarning: \n",
      "A value is trying to be set on a copy of a slice from a DataFrame.\n",
      "Try using .loc[row_indexer,col_indexer] = value instead\n",
      "\n",
      "See the caveats in the documentation: https://pandas.pydata.org/pandas-docs/stable/user_guide/indexing.html#returning-a-view-versus-a-copy\n",
      "  chrom_data[\"cluster\"] = np.repeat(range(1, clusters + 1), np.ceil(len(chrom_data) / clusters))[:len(chrom_data)]\n",
      "/tmp/ipykernel_3256672/3314043594.py:8: SettingWithCopyWarning: \n",
      "A value is trying to be set on a copy of a slice from a DataFrame\n",
      "\n",
      "See the caveats in the documentation: https://pandas.pydata.org/pandas-docs/stable/user_guide/indexing.html#returning-a-view-versus-a-copy\n",
      "  chrom_data.sort_values(by=\"start\", inplace=True)\n",
      "/tmp/ipykernel_3256672/3314043594.py:10: SettingWithCopyWarning: \n",
      "A value is trying to be set on a copy of a slice from a DataFrame.\n",
      "Try using .loc[row_indexer,col_indexer] = value instead\n",
      "\n",
      "See the caveats in the documentation: https://pandas.pydata.org/pandas-docs/stable/user_guide/indexing.html#returning-a-view-versus-a-copy\n",
      "  chrom_data[\"cluster\"] = np.repeat(range(1, clusters + 1), np.ceil(len(chrom_data) / clusters))[:len(chrom_data)]\n",
      "/tmp/ipykernel_3256672/3314043594.py:8: SettingWithCopyWarning: \n",
      "A value is trying to be set on a copy of a slice from a DataFrame\n",
      "\n",
      "See the caveats in the documentation: https://pandas.pydata.org/pandas-docs/stable/user_guide/indexing.html#returning-a-view-versus-a-copy\n",
      "  chrom_data.sort_values(by=\"start\", inplace=True)\n",
      "/tmp/ipykernel_3256672/3314043594.py:10: SettingWithCopyWarning: \n",
      "A value is trying to be set on a copy of a slice from a DataFrame.\n",
      "Try using .loc[row_indexer,col_indexer] = value instead\n",
      "\n",
      "See the caveats in the documentation: https://pandas.pydata.org/pandas-docs/stable/user_guide/indexing.html#returning-a-view-versus-a-copy\n",
      "  chrom_data[\"cluster\"] = np.repeat(range(1, clusters + 1), np.ceil(len(chrom_data) / clusters))[:len(chrom_data)]\n"
     ]
    }
   ],
   "source": [
    "cnv_chr_genes = {}\n",
    "for chrom_group, clusters in chromosomes_cluster.items():\n",
    "    chrom_list = chrom_group.split(';') \n",
    "    chrom_data = sample[sample[\"chromosome\"].isin(chrom_list)]\n",
    "    if clusters == 1:\n",
    "        cnv_chr_genes[chrom_group] = chrom_data.gene_name.values.tolist()\n",
    "    else:\n",
    "        chrom_data.sort_values(by=\"start\", inplace=True)\n",
    "        # Assign clusters evenly based on the number of genes\n",
    "        chrom_data[\"cluster\"] = np.repeat(range(1, clusters + 1), np.ceil(len(chrom_data) / clusters))[:len(chrom_data)]\n",
    "        \n",
    "        for i in range(clusters):\n",
    "            cnv_chr_genes[f'{chrom_group}-{i+1}'] = chrom_data[chrom_data.cluster == i+1].gene_name.values.tolist()"
   ]
  },
  {
   "cell_type": "code",
   "execution_count": 322,
   "id": "25982f4a-508b-4520-92e8-ceda069026e5",
   "metadata": {},
   "outputs": [],
   "source": [
    "with open('mappings/cnv_chr_genes.json', 'w') as f:\n",
    "    # write the dictionary to the file in JSON format\n",
    "    json.dump(cnv_chr_genes, f)"
   ]
  },
  {
   "cell_type": "code",
   "execution_count": 323,
   "id": "9dc55fae-5ff5-4676-9201-44df1b9a3f93",
   "metadata": {},
   "outputs": [],
   "source": [
    "full_cnv = full_cnv.T[filtered_genes]"
   ]
  },
  {
   "cell_type": "markdown",
   "id": "1a5ec196-4156-4408-9060-3ddfd4cd7513",
   "metadata": {},
   "source": [
    "# 6. DNAm <a name=\"p6\"></a>"
   ]
  },
  {
   "cell_type": "code",
   "execution_count": 194,
   "id": "6e15f9a7-50f8-40d5-8857-60a004f590e3",
   "metadata": {},
   "outputs": [
    {
     "name": "stdout",
     "output_type": "stream",
     "text": [
      "CPU times: user 138 ms, sys: 38.8 ms, total: 176 ms\n",
      "Wall time: 22.6 s\n"
     ]
    },
    {
     "data": {
      "text/plain": [
       "(50913, 10)"
      ]
     },
     "execution_count": 194,
     "metadata": {},
     "output_type": "execute_result"
    }
   ],
   "source": [
    "%%time \n",
    "DNAm_files = request_file_info(data_type='Methylation Array')\n",
    "DNAm_files.shape"
   ]
  },
  {
   "cell_type": "code",
   "execution_count": 196,
   "id": "1ab99d49-640a-4dae-9b50-8b761381049b",
   "metadata": {},
   "outputs": [
    {
     "data": {
      "text/plain": [
       "(12527, 10)"
      ]
     },
     "execution_count": 196,
     "metadata": {},
     "output_type": "execute_result"
    }
   ],
   "source": [
    "DNAm_files = DNAm_files[DNAm_files['cases.0.project.project_id'].str.startswith('TCGA')]\n",
    "DNAm_files = DNAm_files[DNAm_files['file_name'].str.endswith('level3betas.txt')]\n",
    "DNAm_files.shape"
   ]
  },
  {
   "cell_type": "code",
   "execution_count": 197,
   "id": "b02aca2f-2e22-4dd3-9014-67a5ad684146",
   "metadata": {},
   "outputs": [
    {
     "name": "stdout",
     "output_type": "stream",
     "text": [
      "All rows:        12527\n",
      "Unique patients: 11000\n"
     ]
    }
   ],
   "source": [
    "print('All rows:       ', DNAm_files.shape[0])\n",
    "print('Unique patients:', DNAm_files['cases.0.submitter_id'].unique().shape[0])"
   ]
  },
  {
   "cell_type": "code",
   "execution_count": 198,
   "id": "2397093c-8436-4f61-bc13-262dd82fe429",
   "metadata": {},
   "outputs": [
    {
     "name": "stderr",
     "output_type": "stream",
     "text": [
      "/tmp/ipykernel_3256672/2877964513.py:1: DeprecationWarning: DataFrameGroupBy.apply operated on the grouping columns. This behavior is deprecated, and in a future version of pandas the grouping columns will be excluded from the operation. Either pass `include_groups=False` to exclude the groupings or explicitly select the grouping columns after groupby to silence this warning.\n",
      "  DNAm_files = DNAm_files.groupby('cases.0.submitter_id', group_keys=False).apply(select_primary).reset_index(drop=True)\n"
     ]
    }
   ],
   "source": [
    "DNAm_files = DNAm_files.groupby('cases.0.submitter_id', group_keys=False).apply(select_primary).reset_index(drop=True)"
   ]
  },
  {
   "cell_type": "code",
   "execution_count": 199,
   "id": "b204754e-ef79-41a3-854f-7582763474ed",
   "metadata": {},
   "outputs": [
    {
     "name": "stdout",
     "output_type": "stream",
     "text": [
      "All rows:        11000\n",
      "Unique patients: 11000\n"
     ]
    }
   ],
   "source": [
    "print('All rows:       ', DNAm_files.shape[0])\n",
    "print('Unique patients:', DNAm_files['cases.0.submitter_id'].unique().shape[0])"
   ]
  },
  {
   "cell_type": "code",
   "execution_count": 201,
   "id": "0876a340-7746-4459-a0b6-af0e84405345",
   "metadata": {},
   "outputs": [],
   "source": [
    "base_path_raw_dnam = 'path/to/data/from/gdc'\n",
    "sample_480k = pd.read_csv(os.path.join(base_path_raw_dnam, 'f366f277-4079-449d-a781-0a0492a3ae41', 'e3976274-ad65-4d85-bf5c-9c10f2502748.methylation_array.sesame.level3betas.txt'), sep='\\t', index_col=0, header=None)\n",
    "sample_27k = pd.read_csv(os.path.join(base_path_raw_dnam, '61fdc0ee-31d6-4051-bc1c-64feaa2e4042', 'fbc63a44-89c8-411c-87c9-05fd4138647a.methylation_array.sesame.level3betas.txt'), sep='\\t', index_col=0, header=None)\n",
    "sample_850k = pd.read_csv(os.path.join('base_path_raw_dnam' '/cptac_wsi/090ad67e-980a-4e8a-9e8b-a231108d871c/8ec2e06d-d893-4af0-9d7d-2796d34c2374.methylation_array.sesame.level3betas.txt', sep='\\t', index_col=0, header=None))"
   ]
  },
  {
   "cell_type": "code",
   "execution_count": 202,
   "id": "537595e5-e186-4687-aa27-2512e1f28dda",
   "metadata": {},
   "outputs": [
    {
     "data": {
      "text/plain": [
       "24655"
      ]
     },
     "execution_count": 202,
     "metadata": {},
     "output_type": "execute_result"
    }
   ],
   "source": [
    "probe_set = [p for p in list(sample_27k.index) if p in sample_480k.index]\n",
    "probe_set = [p for p in probe_set if p in sample_850k.index]\n",
    "len(probe_set)"
   ]
  },
  {
   "cell_type": "code",
   "execution_count": 203,
   "id": "4c05969d-b73d-4cf6-a270-4e879f3285b3",
   "metadata": {},
   "outputs": [
    {
     "name": "stderr",
     "output_type": "stream",
     "text": [
      " 71%|████████████████████████████████████████████████████████████████████████████████████████████████████████████████▏                                              | 8840/12527 [1:16:31<38:00,  1.62it/s]/tmp/ipykernel_3256672/1359710148.py:14: DtypeWarning: Columns (1) have mixed types. Specify dtype option on import or set low_memory=False.\n",
      "  temp_df = pd.read_csv(os.path.join(input_path, idx, filename), sep='\\t', index_col=0, header=None, names=['Composite Element REF', 'Beta_value'])\n",
      "100%|██████████████████████████████████████████████████████████████████████████████████████████████████████████████████████████████████████████████████████████████| 12527/12527 [1:54:18<00:00,  1.83it/s]\n"
     ]
    }
   ],
   "source": [
    "# keep only overlapping probes\n",
    "output_path = '/path/for/processed/dnam'\n",
    "\n",
    "if not os.path.exists(output_path):\n",
    "    os.makedirs(output_path)\n",
    "\n",
    "for idx in tqdm.tqdm(os.listdir(base_path_raw_dnam)):\n",
    "    if not os.path.exists(os.path.join(output_path, idx)):\n",
    "        os.makedirs(os.path.join(output_path, idx))\n",
    "    \n",
    "    files = os.listdir(os.path.join(base_path_raw_dnam, idx))\n",
    "    filename = [file for file in files if 'level3betas.txt' in file][0]\n",
    "    temp_df = pd.read_csv(os.path.join(base_path_raw_dnam, idx, filename), sep='\\t', index_col=0, header=None, names=['Composite Element REF', 'Beta_value'])\n",
    "    temp_df = temp_df[temp_df.index.isin(probe_set)]\n",
    "    temp_df.to_csv(os.path.join(output_path, idx, filename.replace('txt', 'csv')))"
   ]
  },
  {
   "cell_type": "code",
   "execution_count": 204,
   "id": "8f3f69df-0aae-449c-9eaa-aed3abcf7bca",
   "metadata": {},
   "outputs": [
    {
     "data": {
      "text/plain": [
       "9333"
      ]
     },
     "execution_count": 204,
     "metadata": {},
     "output_type": "execute_result"
    }
   ],
   "source": [
    "file_map = make_patient_file_map(DNAm_files, base_dir=base_path_raw_dnam)\n",
    "file_map = {k: file_map[k] for k in file_map if k in list(clinical_tcga['submitter_id'])}\n",
    "len(file_map)"
   ]
  },
  {
   "cell_type": "code",
   "execution_count": 205,
   "id": "10df0e01-3e32-4a99-9a5a-b3d60792545d",
   "metadata": {},
   "outputs": [],
   "source": [
    "file_map = {k:v.replace(base_path_raw_dnam, output_path).replace('.txt', '.csv') for k,v in file_map.items()}"
   ]
  },
  {
   "cell_type": "code",
   "execution_count": 206,
   "id": "2bc5d414-0f82-4160-b6cb-f7d55ff12df3",
   "metadata": {},
   "outputs": [],
   "source": [
    "DNAm_mapping = pd.DataFrame([(k, 'yes') for k in file_map.keys()], columns=('submitter_id', 'dnam'))\n",
    "clinical_tcga = clinical_tcga.merge(DNAm_mapping, how='left', on='submitter_id')"
   ]
  },
  {
   "cell_type": "code",
   "execution_count": 281,
   "id": "466276c2-02d4-45d2-8cd2-259bb80206d6",
   "metadata": {},
   "outputs": [],
   "source": [
    "DNAm_mapping_path = pd.DataFrame([(k, v) for k, v in file_map.items()], columns=('submitter_id', 'dnam_path'))\n",
    "clinical_tcga = clinical_tcga.merge(DNAm_mapping_path, how='left', on='submitter_id')"
   ]
  },
  {
   "cell_type": "code",
   "execution_count": 282,
   "id": "d39971c0-ebd4-4aa9-92ff-0125f67c411b",
   "metadata": {},
   "outputs": [],
   "source": [
    "subset_pretrain = clinical_tcga[clinical_tcga.split == 'pretrain']\n",
    "pretrain_dnam = pd.concat([pd.read_csv(value, index_col=0).Beta_value.rename(key) for key, value in zip(subset_pretrain[subset_pretrain.dnam_path.notna()].submitter_id, subset_pretrain[subset_pretrain.dnam_path.notna()].dnam_path)], axis=1)\n",
    "full_dnam = pd.concat([pd.read_csv(value, index_col=0).Beta_value.rename(key) for key, value in zip(clinical_tcga[clinical_tcga.dnam_path.notna()].submitter_id, clinical_tcga[clinical_tcga.dnam_path.notna()].dnam_path)], axis=1)"
   ]
  },
  {
   "cell_type": "code",
   "execution_count": 283,
   "id": "4f25e102-4ee6-4e7b-8783-0d431619cc48",
   "metadata": {},
   "outputs": [
    {
     "data": {
      "text/plain": [
       "((9333, 24655), (5321, 24655))"
      ]
     },
     "execution_count": 283,
     "metadata": {},
     "output_type": "execute_result"
    }
   ],
   "source": [
    "full_dnam = full_dnam.T\n",
    "pretrain_dnam = pretrain_dnam.T\n",
    "full_dnam.shape, pretrain_dnam.shape"
   ]
  },
  {
   "cell_type": "code",
   "execution_count": 288,
   "id": "c0928c5b-31a9-46cf-bb11-de81db1eaa38",
   "metadata": {},
   "outputs": [
    {
     "name": "stdout",
     "output_type": "stream",
     "text": [
      "(5321, 23214)\n",
      "(5321, 23214)\n",
      "(5321, 20600)\n"
     ]
    }
   ],
   "source": [
    "pretrain_dnam = pretrain_dnam.dropna(axis=1, how=\"all\")\n",
    "print(pretrain_dnam.shape)\n",
    "pretrain_dnam = pretrain_dnam.loc[:, ~pretrain_dnam.columns.duplicated(keep=\"first\")]\n",
    "print(pretrain_dnam.shape)\n",
    "pretrain_dnam = pretrain_dnam.dropna(thresh=pretrain_dnam.shape[0] * 0.99, axis=1)\n",
    "print(pretrain_dnam.shape)"
   ]
  },
  {
   "cell_type": "code",
   "execution_count": 289,
   "id": "7a96d09a-c70a-4985-afc7-4fcaf5ed6116",
   "metadata": {},
   "outputs": [
    {
     "data": {
      "text/plain": [
       "(5321, 20600)"
      ]
     },
     "execution_count": 289,
     "metadata": {},
     "output_type": "execute_result"
    }
   ],
   "source": [
    "pretrain_dnam.shape"
   ]
  },
  {
   "cell_type": "code",
   "execution_count": 290,
   "id": "56cf0385-61c8-4ee4-89b8-c6e1b858c18a",
   "metadata": {},
   "outputs": [],
   "source": [
    "infinium = pd.read_csv('mappings/HM450.hg38.manifest.gencode.v36.tsv', sep='\\t')\n",
    "infinium = infinium[infinium.probeID.isin(pretrain_dnam.columns)]\n",
    "keep = infinium[~infinium.CpG_chrm.isin(['chrX', 'chrY'])].probeID.values.tolist()\n",
    "infinium = infinium[infinium.probeID.isin(keep)]\n",
    "pretrain_dnam = pretrain_dnam[keep]"
   ]
  },
  {
   "cell_type": "code",
   "execution_count": 291,
   "id": "9b71691f-f0dc-4e6d-abb6-3f94b10aac6f",
   "metadata": {},
   "outputs": [],
   "source": [
    "std_dev = pretrain_dnam.std()\n",
    "std_dev = std_dev.nlargest(7150)"
   ]
  },
  {
   "cell_type": "code",
   "execution_count": 292,
   "id": "e522ae6b-5d48-4a66-a1da-d64c694201c9",
   "metadata": {},
   "outputs": [
    {
     "data": {
      "text/plain": [
       "7150"
      ]
     },
     "execution_count": 292,
     "metadata": {},
     "output_type": "execute_result"
    }
   ],
   "source": [
    "filtered_probes = std_dev.index\n",
    "len(filtered_probes)"
   ]
  },
  {
   "cell_type": "code",
   "execution_count": 293,
   "id": "de0b8d36-e892-4a6a-b336-746e1a30e0bc",
   "metadata": {},
   "outputs": [],
   "source": [
    "full_dnam = full_dnam[filtered_probes]\n",
    "pretrain_dnam = pretrain_dnam[filtered_probes]"
   ]
  },
  {
   "cell_type": "code",
   "execution_count": 294,
   "id": "0447ac5b-98f4-47af-89dc-1d590b0082c5",
   "metadata": {},
   "outputs": [],
   "source": [
    "infinium_filtered = infinium[infinium.probeID.isin(filtered_probes)]"
   ]
  },
  {
   "cell_type": "code",
   "execution_count": 295,
   "id": "3b49474f-3a00-4b04-9f80-35155f462e41",
   "metadata": {},
   "outputs": [],
   "source": [
    "dnam_chromosome_cluster = {\n",
    "    'chr1': 6,\n",
    "    'chr19': 4,\n",
    "    'chr11': 4,\n",
    "    'chr17': 3,\n",
    "    'chr2': 3,\n",
    "    'chr3': 3,\n",
    "    'chr6': 3,\n",
    "    'chr12': 3,\n",
    "    'chr7': 2,\n",
    "    'chr5': 2,\n",
    "    'chr8': 2,\n",
    "    'chr20': 2,\n",
    "    'chr16': 2,\n",
    "    'chr10': 2,\n",
    "    'chr4': 2,\n",
    "    'chr9': 2,\n",
    "    'chr15': 1,\n",
    "    'chr14': 1,\n",
    "    'chr22': 1,\n",
    "    'chr13': 1,\n",
    "    'chr18': 1,\n",
    "    'chr21': 1\n",
    "}"
   ]
  },
  {
   "cell_type": "code",
   "execution_count": 296,
   "id": "9d0cccf6-b51c-417e-954b-15f3403cf2b6",
   "metadata": {},
   "outputs": [
    {
     "name": "stderr",
     "output_type": "stream",
     "text": [
      "/tmp/ipykernel_3256672/2756484623.py:7: SettingWithCopyWarning: \n",
      "A value is trying to be set on a copy of a slice from a DataFrame\n",
      "\n",
      "See the caveats in the documentation: https://pandas.pydata.org/pandas-docs/stable/user_guide/indexing.html#returning-a-view-versus-a-copy\n",
      "  chrom_data.sort_values(by=\"CpG_beg\", inplace=True)\n",
      "/tmp/ipykernel_3256672/2756484623.py:9: SettingWithCopyWarning: \n",
      "A value is trying to be set on a copy of a slice from a DataFrame.\n",
      "Try using .loc[row_indexer,col_indexer] = value instead\n",
      "\n",
      "See the caveats in the documentation: https://pandas.pydata.org/pandas-docs/stable/user_guide/indexing.html#returning-a-view-versus-a-copy\n",
      "  chrom_data[\"cluster\"] = np.repeat(range(1, clusters + 1), np.ceil(len(chrom_data) / clusters))[:len(chrom_data)]\n",
      "/tmp/ipykernel_3256672/2756484623.py:7: SettingWithCopyWarning: \n",
      "A value is trying to be set on a copy of a slice from a DataFrame\n",
      "\n",
      "See the caveats in the documentation: https://pandas.pydata.org/pandas-docs/stable/user_guide/indexing.html#returning-a-view-versus-a-copy\n",
      "  chrom_data.sort_values(by=\"CpG_beg\", inplace=True)\n",
      "/tmp/ipykernel_3256672/2756484623.py:9: SettingWithCopyWarning: \n",
      "A value is trying to be set on a copy of a slice from a DataFrame.\n",
      "Try using .loc[row_indexer,col_indexer] = value instead\n",
      "\n",
      "See the caveats in the documentation: https://pandas.pydata.org/pandas-docs/stable/user_guide/indexing.html#returning-a-view-versus-a-copy\n",
      "  chrom_data[\"cluster\"] = np.repeat(range(1, clusters + 1), np.ceil(len(chrom_data) / clusters))[:len(chrom_data)]\n",
      "/tmp/ipykernel_3256672/2756484623.py:7: SettingWithCopyWarning: \n",
      "A value is trying to be set on a copy of a slice from a DataFrame\n",
      "\n",
      "See the caveats in the documentation: https://pandas.pydata.org/pandas-docs/stable/user_guide/indexing.html#returning-a-view-versus-a-copy\n",
      "  chrom_data.sort_values(by=\"CpG_beg\", inplace=True)\n",
      "/tmp/ipykernel_3256672/2756484623.py:9: SettingWithCopyWarning: \n",
      "A value is trying to be set on a copy of a slice from a DataFrame.\n",
      "Try using .loc[row_indexer,col_indexer] = value instead\n",
      "\n",
      "See the caveats in the documentation: https://pandas.pydata.org/pandas-docs/stable/user_guide/indexing.html#returning-a-view-versus-a-copy\n",
      "  chrom_data[\"cluster\"] = np.repeat(range(1, clusters + 1), np.ceil(len(chrom_data) / clusters))[:len(chrom_data)]\n",
      "/tmp/ipykernel_3256672/2756484623.py:7: SettingWithCopyWarning: \n",
      "A value is trying to be set on a copy of a slice from a DataFrame\n",
      "\n",
      "See the caveats in the documentation: https://pandas.pydata.org/pandas-docs/stable/user_guide/indexing.html#returning-a-view-versus-a-copy\n",
      "  chrom_data.sort_values(by=\"CpG_beg\", inplace=True)\n",
      "/tmp/ipykernel_3256672/2756484623.py:9: SettingWithCopyWarning: \n",
      "A value is trying to be set on a copy of a slice from a DataFrame.\n",
      "Try using .loc[row_indexer,col_indexer] = value instead\n",
      "\n",
      "See the caveats in the documentation: https://pandas.pydata.org/pandas-docs/stable/user_guide/indexing.html#returning-a-view-versus-a-copy\n",
      "  chrom_data[\"cluster\"] = np.repeat(range(1, clusters + 1), np.ceil(len(chrom_data) / clusters))[:len(chrom_data)]\n",
      "/tmp/ipykernel_3256672/2756484623.py:7: SettingWithCopyWarning: \n",
      "A value is trying to be set on a copy of a slice from a DataFrame\n",
      "\n",
      "See the caveats in the documentation: https://pandas.pydata.org/pandas-docs/stable/user_guide/indexing.html#returning-a-view-versus-a-copy\n",
      "  chrom_data.sort_values(by=\"CpG_beg\", inplace=True)\n",
      "/tmp/ipykernel_3256672/2756484623.py:9: SettingWithCopyWarning: \n",
      "A value is trying to be set on a copy of a slice from a DataFrame.\n",
      "Try using .loc[row_indexer,col_indexer] = value instead\n",
      "\n",
      "See the caveats in the documentation: https://pandas.pydata.org/pandas-docs/stable/user_guide/indexing.html#returning-a-view-versus-a-copy\n",
      "  chrom_data[\"cluster\"] = np.repeat(range(1, clusters + 1), np.ceil(len(chrom_data) / clusters))[:len(chrom_data)]\n",
      "/tmp/ipykernel_3256672/2756484623.py:7: SettingWithCopyWarning: \n",
      "A value is trying to be set on a copy of a slice from a DataFrame\n",
      "\n",
      "See the caveats in the documentation: https://pandas.pydata.org/pandas-docs/stable/user_guide/indexing.html#returning-a-view-versus-a-copy\n",
      "  chrom_data.sort_values(by=\"CpG_beg\", inplace=True)\n",
      "/tmp/ipykernel_3256672/2756484623.py:9: SettingWithCopyWarning: \n",
      "A value is trying to be set on a copy of a slice from a DataFrame.\n",
      "Try using .loc[row_indexer,col_indexer] = value instead\n",
      "\n",
      "See the caveats in the documentation: https://pandas.pydata.org/pandas-docs/stable/user_guide/indexing.html#returning-a-view-versus-a-copy\n",
      "  chrom_data[\"cluster\"] = np.repeat(range(1, clusters + 1), np.ceil(len(chrom_data) / clusters))[:len(chrom_data)]\n",
      "/tmp/ipykernel_3256672/2756484623.py:7: SettingWithCopyWarning: \n",
      "A value is trying to be set on a copy of a slice from a DataFrame\n",
      "\n",
      "See the caveats in the documentation: https://pandas.pydata.org/pandas-docs/stable/user_guide/indexing.html#returning-a-view-versus-a-copy\n",
      "  chrom_data.sort_values(by=\"CpG_beg\", inplace=True)\n",
      "/tmp/ipykernel_3256672/2756484623.py:9: SettingWithCopyWarning: \n",
      "A value is trying to be set on a copy of a slice from a DataFrame.\n",
      "Try using .loc[row_indexer,col_indexer] = value instead\n",
      "\n",
      "See the caveats in the documentation: https://pandas.pydata.org/pandas-docs/stable/user_guide/indexing.html#returning-a-view-versus-a-copy\n",
      "  chrom_data[\"cluster\"] = np.repeat(range(1, clusters + 1), np.ceil(len(chrom_data) / clusters))[:len(chrom_data)]\n",
      "/tmp/ipykernel_3256672/2756484623.py:7: SettingWithCopyWarning: \n",
      "A value is trying to be set on a copy of a slice from a DataFrame\n",
      "\n",
      "See the caveats in the documentation: https://pandas.pydata.org/pandas-docs/stable/user_guide/indexing.html#returning-a-view-versus-a-copy\n",
      "  chrom_data.sort_values(by=\"CpG_beg\", inplace=True)\n",
      "/tmp/ipykernel_3256672/2756484623.py:9: SettingWithCopyWarning: \n",
      "A value is trying to be set on a copy of a slice from a DataFrame.\n",
      "Try using .loc[row_indexer,col_indexer] = value instead\n",
      "\n",
      "See the caveats in the documentation: https://pandas.pydata.org/pandas-docs/stable/user_guide/indexing.html#returning-a-view-versus-a-copy\n",
      "  chrom_data[\"cluster\"] = np.repeat(range(1, clusters + 1), np.ceil(len(chrom_data) / clusters))[:len(chrom_data)]\n",
      "/tmp/ipykernel_3256672/2756484623.py:7: SettingWithCopyWarning: \n",
      "A value is trying to be set on a copy of a slice from a DataFrame\n",
      "\n",
      "See the caveats in the documentation: https://pandas.pydata.org/pandas-docs/stable/user_guide/indexing.html#returning-a-view-versus-a-copy\n",
      "  chrom_data.sort_values(by=\"CpG_beg\", inplace=True)\n",
      "/tmp/ipykernel_3256672/2756484623.py:9: SettingWithCopyWarning: \n",
      "A value is trying to be set on a copy of a slice from a DataFrame.\n",
      "Try using .loc[row_indexer,col_indexer] = value instead\n",
      "\n",
      "See the caveats in the documentation: https://pandas.pydata.org/pandas-docs/stable/user_guide/indexing.html#returning-a-view-versus-a-copy\n",
      "  chrom_data[\"cluster\"] = np.repeat(range(1, clusters + 1), np.ceil(len(chrom_data) / clusters))[:len(chrom_data)]\n",
      "/tmp/ipykernel_3256672/2756484623.py:7: SettingWithCopyWarning: \n",
      "A value is trying to be set on a copy of a slice from a DataFrame\n",
      "\n",
      "See the caveats in the documentation: https://pandas.pydata.org/pandas-docs/stable/user_guide/indexing.html#returning-a-view-versus-a-copy\n",
      "  chrom_data.sort_values(by=\"CpG_beg\", inplace=True)\n",
      "/tmp/ipykernel_3256672/2756484623.py:9: SettingWithCopyWarning: \n",
      "A value is trying to be set on a copy of a slice from a DataFrame.\n",
      "Try using .loc[row_indexer,col_indexer] = value instead\n",
      "\n",
      "See the caveats in the documentation: https://pandas.pydata.org/pandas-docs/stable/user_guide/indexing.html#returning-a-view-versus-a-copy\n",
      "  chrom_data[\"cluster\"] = np.repeat(range(1, clusters + 1), np.ceil(len(chrom_data) / clusters))[:len(chrom_data)]\n",
      "/tmp/ipykernel_3256672/2756484623.py:7: SettingWithCopyWarning: \n",
      "A value is trying to be set on a copy of a slice from a DataFrame\n",
      "\n",
      "See the caveats in the documentation: https://pandas.pydata.org/pandas-docs/stable/user_guide/indexing.html#returning-a-view-versus-a-copy\n",
      "  chrom_data.sort_values(by=\"CpG_beg\", inplace=True)\n",
      "/tmp/ipykernel_3256672/2756484623.py:9: SettingWithCopyWarning: \n",
      "A value is trying to be set on a copy of a slice from a DataFrame.\n",
      "Try using .loc[row_indexer,col_indexer] = value instead\n",
      "\n",
      "See the caveats in the documentation: https://pandas.pydata.org/pandas-docs/stable/user_guide/indexing.html#returning-a-view-versus-a-copy\n",
      "  chrom_data[\"cluster\"] = np.repeat(range(1, clusters + 1), np.ceil(len(chrom_data) / clusters))[:len(chrom_data)]\n",
      "/tmp/ipykernel_3256672/2756484623.py:7: SettingWithCopyWarning: \n",
      "A value is trying to be set on a copy of a slice from a DataFrame\n",
      "\n",
      "See the caveats in the documentation: https://pandas.pydata.org/pandas-docs/stable/user_guide/indexing.html#returning-a-view-versus-a-copy\n",
      "  chrom_data.sort_values(by=\"CpG_beg\", inplace=True)\n",
      "/tmp/ipykernel_3256672/2756484623.py:9: SettingWithCopyWarning: \n",
      "A value is trying to be set on a copy of a slice from a DataFrame.\n",
      "Try using .loc[row_indexer,col_indexer] = value instead\n",
      "\n",
      "See the caveats in the documentation: https://pandas.pydata.org/pandas-docs/stable/user_guide/indexing.html#returning-a-view-versus-a-copy\n",
      "  chrom_data[\"cluster\"] = np.repeat(range(1, clusters + 1), np.ceil(len(chrom_data) / clusters))[:len(chrom_data)]\n",
      "/tmp/ipykernel_3256672/2756484623.py:7: SettingWithCopyWarning: \n",
      "A value is trying to be set on a copy of a slice from a DataFrame\n",
      "\n",
      "See the caveats in the documentation: https://pandas.pydata.org/pandas-docs/stable/user_guide/indexing.html#returning-a-view-versus-a-copy\n",
      "  chrom_data.sort_values(by=\"CpG_beg\", inplace=True)\n",
      "/tmp/ipykernel_3256672/2756484623.py:9: SettingWithCopyWarning: \n",
      "A value is trying to be set on a copy of a slice from a DataFrame.\n",
      "Try using .loc[row_indexer,col_indexer] = value instead\n",
      "\n",
      "See the caveats in the documentation: https://pandas.pydata.org/pandas-docs/stable/user_guide/indexing.html#returning-a-view-versus-a-copy\n",
      "  chrom_data[\"cluster\"] = np.repeat(range(1, clusters + 1), np.ceil(len(chrom_data) / clusters))[:len(chrom_data)]\n",
      "/tmp/ipykernel_3256672/2756484623.py:7: SettingWithCopyWarning: \n",
      "A value is trying to be set on a copy of a slice from a DataFrame\n",
      "\n",
      "See the caveats in the documentation: https://pandas.pydata.org/pandas-docs/stable/user_guide/indexing.html#returning-a-view-versus-a-copy\n",
      "  chrom_data.sort_values(by=\"CpG_beg\", inplace=True)\n",
      "/tmp/ipykernel_3256672/2756484623.py:9: SettingWithCopyWarning: \n",
      "A value is trying to be set on a copy of a slice from a DataFrame.\n",
      "Try using .loc[row_indexer,col_indexer] = value instead\n",
      "\n",
      "See the caveats in the documentation: https://pandas.pydata.org/pandas-docs/stable/user_guide/indexing.html#returning-a-view-versus-a-copy\n",
      "  chrom_data[\"cluster\"] = np.repeat(range(1, clusters + 1), np.ceil(len(chrom_data) / clusters))[:len(chrom_data)]\n",
      "/tmp/ipykernel_3256672/2756484623.py:7: SettingWithCopyWarning: \n",
      "A value is trying to be set on a copy of a slice from a DataFrame\n",
      "\n",
      "See the caveats in the documentation: https://pandas.pydata.org/pandas-docs/stable/user_guide/indexing.html#returning-a-view-versus-a-copy\n",
      "  chrom_data.sort_values(by=\"CpG_beg\", inplace=True)\n",
      "/tmp/ipykernel_3256672/2756484623.py:9: SettingWithCopyWarning: \n",
      "A value is trying to be set on a copy of a slice from a DataFrame.\n",
      "Try using .loc[row_indexer,col_indexer] = value instead\n",
      "\n",
      "See the caveats in the documentation: https://pandas.pydata.org/pandas-docs/stable/user_guide/indexing.html#returning-a-view-versus-a-copy\n",
      "  chrom_data[\"cluster\"] = np.repeat(range(1, clusters + 1), np.ceil(len(chrom_data) / clusters))[:len(chrom_data)]\n",
      "/tmp/ipykernel_3256672/2756484623.py:7: SettingWithCopyWarning: \n",
      "A value is trying to be set on a copy of a slice from a DataFrame\n",
      "\n",
      "See the caveats in the documentation: https://pandas.pydata.org/pandas-docs/stable/user_guide/indexing.html#returning-a-view-versus-a-copy\n",
      "  chrom_data.sort_values(by=\"CpG_beg\", inplace=True)\n",
      "/tmp/ipykernel_3256672/2756484623.py:9: SettingWithCopyWarning: \n",
      "A value is trying to be set on a copy of a slice from a DataFrame.\n",
      "Try using .loc[row_indexer,col_indexer] = value instead\n",
      "\n",
      "See the caveats in the documentation: https://pandas.pydata.org/pandas-docs/stable/user_guide/indexing.html#returning-a-view-versus-a-copy\n",
      "  chrom_data[\"cluster\"] = np.repeat(range(1, clusters + 1), np.ceil(len(chrom_data) / clusters))[:len(chrom_data)]\n"
     ]
    }
   ],
   "source": [
    "dnam_genes = {}\n",
    "for chrom, clusters in dnam_chromosome_cluster.items():\n",
    "    chrom_data = infinium_filtered[infinium_filtered[\"CpG_chrm\"] == chrom]\n",
    "    if clusters == 1:\n",
    "        dnam_genes[chrom] = chrom_data.probeID.values.tolist()\n",
    "    else:\n",
    "        chrom_data.sort_values(by=\"CpG_beg\", inplace=True)\n",
    "        # Assign clusters evenly based on the number of genes\n",
    "        chrom_data[\"cluster\"] = np.repeat(range(1, clusters + 1), np.ceil(len(chrom_data) / clusters))[:len(chrom_data)]\n",
    "        for i in range(clusters):\n",
    "            dnam_genes[f'{chrom}-{i+1}'] = chrom_data[chrom_data.cluster == i+1].probeID.values.tolist()"
   ]
  },
  {
   "cell_type": "code",
   "execution_count": 297,
   "id": "a90042c0-ac82-420d-acce-b6d97eae11b5",
   "metadata": {},
   "outputs": [],
   "source": [
    "with open('mappings/dnam_chr_genes.json', 'w') as f:\n",
    "    # write the dictionary to the file in JSON format\n",
    "    json.dump(dnam_genes, f)"
   ]
  },
  {
   "cell_type": "code",
   "execution_count": 325,
   "id": "db98c40d-16dc-4f76-9b04-8c6b96b3737e",
   "metadata": {},
   "outputs": [
    {
     "data": {
      "text/plain": [
       "((9333, 7150), (5321, 7150))"
      ]
     },
     "execution_count": 325,
     "metadata": {},
     "output_type": "execute_result"
    }
   ],
   "source": [
    "full_dnam.shape, pretrain_dnam.shape"
   ]
  },
  {
   "cell_type": "markdown",
   "id": "ae01c1ba-623e-48cb-b7f1-3b06e76342ff",
   "metadata": {},
   "source": [
    "# Split the fine-tune dataset"
   ]
  },
  {
   "cell_type": "code",
   "execution_count": 234,
   "id": "a3f6af2e-4893-4544-a685-ab2ba882347b",
   "metadata": {},
   "outputs": [],
   "source": [
    "fine_tune_subset = clinical_tcga[clinical_tcga.split == 'fine-tune']"
   ]
  },
  {
   "cell_type": "code",
   "execution_count": 18,
   "id": "ddb9d6ec-a332-4900-945b-69c53b800ce2",
   "metadata": {},
   "outputs": [],
   "source": [
    "def get_folding(metadata, finetune_df):\n",
    "    skf = KFold(n_splits=5, shuffle=True, random_state=1999)\n",
    "    folds = {}  # Dictionary to store new folds\n",
    "    for fold, (_, val_idx) in enumerate(skf.split(finetune_df['submitter_id'])):\n",
    "        print(fold)\n",
    "        for idx in val_idx:\n",
    "            x_value = finetune_df.iloc[idx]['submitter_id']\n",
    "            folds[x_value] = fold\n",
    "\n",
    "    folding_df = pd.DataFrame([(k, v) for k, v in folds.items()], columns=('submitter_id', 'folds'))\n",
    "    metadata = metadata.merge(folding_df, how='left', on='submitter_id')\n",
    "    return metadata"
   ]
  },
  {
   "cell_type": "code",
   "execution_count": 327,
   "id": "83226dfc-bcaa-465b-912f-ac3e0957527a",
   "metadata": {},
   "outputs": [],
   "source": [
    "clinical_tcga.drop(columns=['dnam_path', 'cnv_path'], inplace=True)"
   ]
  },
  {
   "cell_type": "markdown",
   "id": "a9414f47-ae62-4231-af84-b10df5a66c66",
   "metadata": {},
   "source": [
    "# Divise in subfolder for fine-tuning task"
   ]
  },
  {
   "cell_type": "code",
   "execution_count": 60,
   "id": "e323e88e-3954-425f-8e22-50ad1bdd8e79",
   "metadata": {},
   "outputs": [
    {
     "name": "stdout",
     "output_type": "stream",
     "text": [
      "Processing input project: kirc\n",
      "0\n",
      "1\n",
      "2\n",
      "3\n",
      "4\n",
      "(513, 35)\n",
      "folds\n",
      "1.0    28\n",
      "0.0    28\n",
      "3.0    27\n",
      "2.0    27\n",
      "4.0    27\n",
      "Name: count, dtype: int64\n",
      "Handling RNA data\n",
      "RNA shape:  (510, 4168)\n",
      "RNA.... done\n",
      "Handling DNAm\n",
      "DNAm shape:  (511, 7150)\n",
      "DNAm.... done\n",
      "Handling CNV\n",
      "CNV shape:  (497, 6750)\n",
      "SAVING METADATA\n",
      "(513, 35)\n"
     ]
    }
   ],
   "source": [
    "substudies = ['gbmlgg', 'luad', 'brca', 'coadread']\n",
    "def make_data(inp_project):\n",
    "    if inp_project == 'gbmlgg':\n",
    "        project = ['TCGA-GBM', 'TCGA-LGG']\n",
    "    elif inp_project == 'coadread':\n",
    "        project = ['TCGA-COAD', 'TCGA-READ']\n",
    "    else:\n",
    "        project = [f'TCGA-{inp_project.upper()}']\n",
    "\n",
    "    print(f\"Processing input project: {inp_project}\")\n",
    "    subset = clinical_tcga[clinical_tcga.project_id.isin(project)]\n",
    "    subset_finetune = subset[subset.split == 'fine-tune']\n",
    "    subset_finetune = subset_finetune.dropna(subset=['rna'])\n",
    "    subset_finetune = subset_finetune[subset_finetune.survival_months.notna()]\n",
    "    subset = get_folding(subset, subset_finetune)\n",
    "    #subset = subset[subset.survival_months.notna()]\n",
    "    #subset = subset[subset.split == 'fine-tune']\n",
    "    print(subset.shape)\n",
    "    print(subset.folds.value_counts())\n",
    "    print(\"Handling RNA data\")\n",
    "    hallmark = rna_dataframe_hallmarks[rna_dataframe_hallmarks.index.isin(subset.submitter_id.tolist())]\n",
    "    print('RNA shape: ', hallmark.shape)\n",
    "    hallmark.to_csv(f'../datasets_csv/rna/hallmarks/tcga_{inp_project}.csv')\n",
    "    print(\"RNA.... done\")\n",
    "    print(\"Handling DNAm\")\n",
    "    dnam = full_dnam[full_dnam.index.isin(subset.submitter_id.tolist())]\n",
    "    print(\"DNAm shape: \", dnam.shape)\n",
    "    dnam.to_csv(f'../datasets_csv/dnam/tcga_{inp_project}.csv')\n",
    "    print(\"DNAm.... done\")\n",
    "    print(\"Handling CNV\")\n",
    "    cnv = full_cnv[full_cnv.index.isin(subset.submitter_id.tolist())]\n",
    "    print(\"CNV shape: \", cnv.shape)\n",
    "    cnv.to_csv(f'../datasets_csv/cnv/tcga_{inp_project}.csv')\n",
    "\n",
    "    print(\"SAVING METADATA\")\n",
    "    subset.to_csv(f'../datasets_csv/metadata/tcga_{inp_project}.csv')\n",
    "    print(subset.shape)\n",
    "\n",
    "for s in substudies:\n",
    "    make_data(s)"
   ]
  },
  {
   "cell_type": "markdown",
   "id": "11dee4da",
   "metadata": {},
   "source": [
    "## Save pan-cancer data"
   ]
  },
  {
   "cell_type": "code",
   "execution_count": 339,
   "id": "ff5f6c5d-a66a-4f9c-9ac2-0cfcc0badadc",
   "metadata": {},
   "outputs": [],
   "source": [
    "clinical_tcga.to_csv('../datasets_csv/metadata/tcga_pancan.csv')\n",
    "rna_dataframe_hallmarks.to_csv('../datasets_csv/rna/hallmarks/tcga_pancan.csv')\n",
    "full_dnam.to_csv('../datasets_csv/dnam/tcga_pancan.csv')\n",
    "full_cnv.to_csv('../datasets_csv/cnv/tcga_pancan.csv')"
   ]
  },
  {
   "cell_type": "code",
   "execution_count": 16,
   "id": "62c5bb46-0040-46c4-bee1-4c1bca71a31c",
   "metadata": {},
   "outputs": [],
   "source": [
    "clinical_tcga.to_csv('../datasets_csv/metadata/tcga_pancan.csv')"
   ]
  },
  {
   "cell_type": "code",
   "execution_count": null,
   "id": "0198054d-1b60-4a85-959d-3dc9a2327c78",
   "metadata": {},
   "outputs": [],
   "source": []
  }
 ],
 "metadata": {
  "kernelspec": {
   "display_name": "Python 3 (ipykernel)",
   "language": "python",
   "name": "python3"
  },
  "language_info": {
   "codemirror_mode": {
    "name": "ipython",
    "version": 3
   },
   "file_extension": ".py",
   "mimetype": "text/x-python",
   "name": "python",
   "nbconvert_exporter": "python",
   "pygments_lexer": "ipython3",
   "version": "3.10.16"
  }
 },
 "nbformat": 4,
 "nbformat_minor": 5
}
