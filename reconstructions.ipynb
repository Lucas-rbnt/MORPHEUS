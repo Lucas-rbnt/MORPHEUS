{
 "cells": [
  {
   "cell_type": "markdown",
   "id": "9d5f4635-6090-43b7-a20a-bcd1c0d0bae4",
   "metadata": {},
   "source": [
    "# Reconstruction notebook\n",
    "\n",
    "This notebook contains all the code needed to evaluate the quality of MORPHEUS reconstructions and compare them with different baselines."
   ]
  },
  {
   "cell_type": "code",
   "execution_count": 213,
   "id": "e586a7e8-2fca-4e62-9b4a-d07b1895e617",
   "metadata": {},
   "outputs": [],
   "source": [
    "# make imports\n",
    "from collections import OrderedDict\n",
    "\n",
    "from morpheus.morpheus import MorpheusProto\n",
    "from morpheus.utils.data import get_omics, prepare_omics_mapping\n",
    "from morpheus.decoders import MorpheusDecoder\n",
    "from morpheus.tokenizers import OmicsTokenizer, WSITokenizer\n",
    "from morpheus.datasets import WSIMultiOmicsDataset\n",
    "from morpheus.reverse_tokenizers import OmicsReverseTokenizer\n",
    "\n",
    "import matplotlib.pyplot as plt\n",
    "import numpy as np\n",
    "import pandas as pd\n",
    "import tqdm\n",
    "from torch.utils.data import DataLoader\n",
    "import torch\n",
    "\n",
    "plt.style.use(\"seaborn-v0_8-whitegrid\")\n",
    "plt.rcParams.update({\n",
    "    \"font.size\": 12,\n",
    "    \"font.family\": \"serif\",\n",
    "    \"axes.titlesize\": 12,\n",
    "    \"axes.labelsize\": 12,\n",
    "    \"legend.fontsize\": 9,\n",
    "    \"xtick.labelsize\": 11,\n",
    "    \"ytick.labelsize\": 11,\n",
    "    \"figure.figsize\": (7, 5),\n",
    "})"
   ]
  },
  {
   "cell_type": "code",
   "execution_count": 214,
   "id": "ff84569a-5bbc-48f4-ada9-6d59e14e3c83",
   "metadata": {},
   "outputs": [],
   "source": [
    "from itertools import combinations\n",
    "\n",
    "def get_modality_combinations(modalities, target_modality):\n",
    "    remaining = [m for m in modalities if m != target_modality]\n",
    "    combos = []\n",
    "    for r in range(1, len(remaining) + 1):\n",
    "        for combo in combinations(remaining, r):\n",
    "            combo_str = '-'.join(combo)\n",
    "            combos.append(combo_str)\n",
    "    return combos"
   ]
  },
  {
   "cell_type": "code",
   "execution_count": 215,
   "id": "366b93d6-3ae8-4efc-98f9-fca310092547",
   "metadata": {},
   "outputs": [],
   "source": [
    "omics_modalities = ['rna', 'dnam', 'cnv']\n",
    "data_dir = 'path/to/data'\n",
    "rna_pathways = 'hallmarks'\n",
    "project_id = 'gbmlgg'\n",
    "hidden_size = 256\n",
    "decoder_num_heads = 8\n",
    "num_layers_decoders = 1\n",
    "num_layers = 1\n",
    "device = 'cuda'\n",
    "modality_to_reconstruct = 'dnam'\n",
    "metadata = pd.read_csv(f'datasets_csv/metadata/tcga_{project_id}.csv')\n",
    "metadata = metadata.dropna(subset=omics_modalities)\n",
    "metadata = metadata[metadata.split == 'fine-tune']\n",
    "mapping_modalities = {'dnam': 'DNAm', 'rna': 'RNA', 'cnv': 'CNV'}"
   ]
  },
  {
   "cell_type": "code",
   "execution_count": 216,
   "id": "a00ffb62-cfb0-4fa6-8e78-0551008136ed",
   "metadata": {},
   "outputs": [],
   "source": [
    "omics_combination = get_modality_combinations(omics_modalities, modality_to_reconstruct)"
   ]
  },
  {
   "cell_type": "code",
   "execution_count": 217,
   "id": "4fa81d4f-1de0-4854-ab2e-648c65fa9be1",
   "metadata": {},
   "outputs": [
    {
     "data": {
      "text/plain": [
       "['rna', 'cnv', 'rna-cnv']"
      ]
     },
     "execution_count": 217,
     "metadata": {},
     "output_type": "execute_result"
    }
   ],
   "source": [
    "omics_combination"
   ]
  },
  {
   "cell_type": "code",
   "execution_count": 218,
   "id": "7def8489-c5f5-41b0-8629-e052657579c8",
   "metadata": {},
   "outputs": [
    {
     "data": {
      "text/plain": [
       "(228, 36)"
      ]
     },
     "execution_count": 218,
     "metadata": {},
     "output_type": "execute_result"
    }
   ],
   "source": [
    "metadata.shape"
   ]
  },
  {
   "cell_type": "code",
   "execution_count": 219,
   "id": "8534b9f0-c9c4-45ee-ba22-c5c1149308d8",
   "metadata": {},
   "outputs": [
    {
     "name": "stderr",
     "output_type": "stream",
     "text": [
      "Iterations...: 100%|███████████████████████████████████████████████████████████████████████████████████████████████████████████████████████████████████████████| 228/228 [00:29<00:00,  7.68it/s]\n",
      "/tmp/ipykernel_167164/2187327833.py:50: FutureWarning: DataFrame.groupby with axis=1 is deprecated. Do `frame.T.groupby(...)` without axis instead.\n",
      "  reconstructions_data = {key: value.groupby(value.columns, axis=1).mean() for key, value in reconstructions_data.items()}\n",
      "/tmp/ipykernel_167164/2187327833.py:50: FutureWarning: DataFrame.groupby with axis=1 is deprecated. Do `frame.T.groupby(...)` without axis instead.\n",
      "  reconstructions_data = {key: value.groupby(value.columns, axis=1).mean() for key, value in reconstructions_data.items()}\n",
      "/tmp/ipykernel_167164/2187327833.py:50: FutureWarning: DataFrame.groupby with axis=1 is deprecated. Do `frame.T.groupby(...)` without axis instead.\n",
      "  reconstructions_data = {key: value.groupby(value.columns, axis=1).mean() for key, value in reconstructions_data.items()}\n",
      "/tmp/ipykernel_167164/2187327833.py:50: FutureWarning: DataFrame.groupby with axis=1 is deprecated. Do `frame.T.groupby(...)` without axis instead.\n",
      "  reconstructions_data = {key: value.groupby(value.columns, axis=1).mean() for key, value in reconstructions_data.items()}\n",
      "/tmp/ipykernel_167164/2187327833.py:50: FutureWarning: DataFrame.groupby with axis=1 is deprecated. Do `frame.T.groupby(...)` without axis instead.\n",
      "  reconstructions_data = {key: value.groupby(value.columns, axis=1).mean() for key, value in reconstructions_data.items()}\n"
     ]
    }
   ],
   "source": [
    "reconstructions_data = {}\n",
    "reconstructions_data['wsi'] = []\n",
    "reconstructions_data['target'] = []\n",
    "omics_combination = get_modality_combinations(omics_modalities, modality_to_reconstruct)\n",
    "for combi in omics_combination:\n",
    "    reconstructions_data[combi] = []\n",
    "\n",
    "\n",
    "omics_data = get_omics(metadata, project_id=project_id, modalities=omics_modalities)\n",
    "mapping_dicts = prepare_omics_mapping(omics_modalities)\n",
    "\n",
    "omics_tokenizers = OrderedDict((modality, OmicsTokenizer(mapping_dicts[modality], output_dim=hidden_size, hidden=[256])) for modality in omics_modalities)\n",
    "reverse_tokenizers = OrderedDict((modality, OmicsReverseTokenizer(mapping_dicts[modality], input_dim=hidden_size, hidden=[256])) for modality in omics_modalities)\n",
    "omics_decoders = OrderedDict((modality, MorpheusDecoder(reverse_tokenizers[modality], modality=modality, hidden_size=hidden_size, num_layers=num_layers_decoders, num_heads=decoder_num_heads)) for modality in omics_modalities)\n",
    "num_proto = 32\n",
    "wsi_tokenizer = WSITokenizer(embed_dim=hidden_size, num_proto=num_proto)\n",
    "model = MorpheusProto(wsi_tokenizer, omics_tokenizers=omics_tokenizers, omics_decoders=omics_decoders, omics_modalities=omics_modalities, hidden_size=hidden_size, num_layers=num_layers)\n",
    "  \n",
    "pretrained_path = f\"pretrained_models/morpheus.pth\"\n",
    "model.load_state_dict(torch.load(pretrained_path))\n",
    "model.to(device)\n",
    "model.eval()\n",
    "   \n",
    "val_dataset = WSIMultiOmicsDataset(metadata, rna_dataframe=omics_data['rna'], rna_dict=mapping_dicts['rna'], dnam_dataframe=omics_data['dnam'], dnam_dict=mapping_dicts['dnam'], cnv_dataframe=omics_data['cnv'], cnv_dict=mapping_dicts['cnv'], mode='val', data_dir=data_dir)\n",
    "val_dataloader = DataLoader(val_dataset, batch_size=1, shuffle=False)\n",
    " \n",
    "with torch.no_grad():\n",
    "    for i, inputs in enumerate(tqdm.tqdm(val_dataloader, desc='Iterations...')):\n",
    "        wsi = inputs['wsi'].to(device)\n",
    "        omics_data = {modality: inputs[modality] for modality in omics_modalities}\n",
    "        for modality in omics_data.keys():\n",
    "            omics_data[modality] = {k: v.to(device) for k, v in omics_data[modality].items()}\n",
    "                \n",
    "        outputs_wsi = model.forward_encoder(wsi, {})\n",
    "        predictions_wsi = omics_decoders[modality_to_reconstruct].decode(outputs_wsi)\n",
    "        reconstructions_data['wsi'].append(torch.cat(list(predictions_wsi.values()), dim=1))\n",
    "\n",
    "        for combi in omics_combination:\n",
    "            temp_omics = {key: omics_data[key] for key in combi.split('-')}\n",
    "            temp_outputs = model.forward_encoder(wsi, temp_omics)\n",
    "            temp_predictions = omics_decoders[modality_to_reconstruct].decode(temp_outputs)\n",
    "            reconstructions_data[combi].append(torch.cat(list(temp_predictions.values()), dim=1))\n",
    "            \n",
    "        reconstructions_data['target'].append(torch.cat(list(inputs[modality_to_reconstruct].values()), dim=1))\n",
    "\n",
    "        \n",
    "\n",
    "features = np.concatenate(list(mapping_dicts[modality_to_reconstruct].values()))\n",
    "reconstructions_data = {key: pd.DataFrame(torch.cat(value).cpu().numpy(), columns=features) for key, value in reconstructions_data.items()}\n",
    "reconstructions_data = {key: value.groupby(value.columns, axis=1).mean() for key, value in reconstructions_data.items()}"
   ]
  },
  {
   "cell_type": "code",
   "execution_count": 220,
   "id": "6af0e510-01cd-4704-9c87-b384efc192c3",
   "metadata": {},
   "outputs": [
    {
     "name": "stdout",
     "output_type": "stream",
     "text": [
      "wsi\n",
      "0.4594966348621883\n",
      "rna\n",
      "0.6565826671299461\n",
      "cnv\n",
      "0.4655764436907192\n",
      "rna-cnv\n",
      "0.6548883351913329\n"
     ]
    }
   ],
   "source": [
    "mask = reconstructions_data['target'].std() > 0.15\n",
    "for key, value in reconstructions_data.items():\n",
    "    if key == 'target':\n",
    "        continue\n",
    "    else:\n",
    "        print(key)\n",
    "        print(reconstructions_data['target'].loc[:, mask].corrwith(value.loc[:, mask]).median())"
   ]
  },
  {
   "cell_type": "code",
   "execution_count": 221,
   "id": "39993fca-d351-4fb2-abfa-9408d37691d9",
   "metadata": {},
   "outputs": [
    {
     "data": {
      "image/png": "[encoded data removed]",
      "text/plain": [
       "<Figure size 700x500 with 1 Axes>"
      ]
     },
     "metadata": {},
     "output_type": "display_data"
    }
   ],
   "source": [
    "markers = ['o', 's', 'D', '^']\n",
    "thresholds = np.linspace(0.01, 0.9, 20)\n",
    "fig, ax = plt.subplots()\n",
    "i = 0\n",
    "for key in reconstructions_data.keys():\n",
    "    if key == 'target':\n",
    "        continue\n",
    "    if key == 'wsi':\n",
    "        label = 'WSI'\n",
    "    else:\n",
    "        list_label = key.split('-')\n",
    "        list_label = [mapping_modalities[mod] for mod in list_label]\n",
    "        label = 'WSI - ' + ' - '.join(list_label)\n",
    "    n_features = []\n",
    "    median = reconstructions_data['target'].loc[:, mask].corrwith(reconstructions_data[key].loc[:, mask]).median()\n",
    "    label += f' ({median:.3f})' \n",
    "    for t in thresholds:\n",
    "        n_features.append((reconstructions_data['target'].loc[:, mask].corrwith(reconstructions_data[key].loc[:, mask]) > t).sum())\n",
    "\n",
    "    ax.scatter(thresholds, n_features, label=label, marker=markers[i], alpha=0.8, edgecolor='black')\n",
    "    i += 1\n",
    "\n",
    "# Axis labels and title\n",
    "ax.set_xlabel(\"Correlation Threshold\")\n",
    "ax.set_ylabel(\"Number of features\")\n",
    "ax.set_title(f\"TCGA-{project_id.upper()} - {mapping_modalities[modality_to_reconstruct]}\")\n",
    "\n",
    "# Axis limits and ticks\n",
    "ax.set_xlim(-0.01, 0.91)\n",
    "ax.set_ylim(-50, reconstructions_data['target'].loc[:, mask].shape[1] + 50)\n",
    "#ax.set_yticks(np.linspace(0, 1, 6))\n",
    "ax.set_xticks([0, 0.1, 0.2, 0.3, 0.4, 0.5, 0.6, 0.7, 0.8, 0.9])\n",
    "\n",
    "# Grid and legend\n",
    "ax.grid(True, linestyle=':', linewidth=0.7)\n",
    "ax.legend(loc='best')\n",
    "\n",
    "# Layout and save\n",
    "plt.tight_layout()\n",
    "plt.savefig(f\"figs/{project_id}/{modality_to_reconstruct}.pdf\", dpi=300, bbox_inches='tight')\n",
    "plt.show()"
   ]
  },
  {
   "cell_type": "markdown",
   "id": "595536a4-63ec-447d-b32e-05de1d29758c",
   "metadata": {},
   "source": [
    "### Sanity Check"
   ]
  },
  {
   "cell_type": "code",
   "execution_count": 223,
   "id": "f5a72378-4b39-429f-8c4a-8766f1115d3d",
   "metadata": {},
   "outputs": [],
   "source": [
    "idh_wt = np.where(metadata.IDH == 'WT')[0]\n",
    "idh_mut = np.where(metadata.IDH == 'Mutant')[0]"
   ]
  },
  {
   "cell_type": "code",
   "execution_count": 226,
   "id": "9d9ea903-4bb1-46a6-a5fd-5f2e4dccbbeb",
   "metadata": {},
   "outputs": [
    {
     "data": {
      "text/plain": [
       "66"
      ]
     },
     "execution_count": 226,
     "metadata": {},
     "output_type": "execute_result"
    }
   ],
   "source": [
    "len(idh_wt)"
   ]
  },
  {
   "cell_type": "code",
   "execution_count": 227,
   "id": "0d6a1055-8362-4605-ba0f-555a47abb3f4",
   "metadata": {},
   "outputs": [],
   "source": [
    "from scipy.stats import ttest_ind\n",
    "\n",
    "def compute_diff_methylation(df, group1, group2):\n",
    "    pvals = []\n",
    "    diffs = []\n",
    "    for col in df.columns:\n",
    "        g1 = df.iloc[group1][col]\n",
    "        g2 = df.iloc[group2][col]\n",
    "        stat, p = ttest_ind(g1, g2, equal_var=False)\n",
    "        pvals.append(p)\n",
    "        diffs.append(g1.mean() - g2.mean())\n",
    "    return pd.DataFrame({'site': df.columns, 'delta_beta': diffs, 'pval': pvals})"
   ]
  },
  {
   "cell_type": "code",
   "execution_count": 228,
   "id": "8d3c07d9-0c56-4969-b3c3-04c32aa2aff7",
   "metadata": {},
   "outputs": [],
   "source": [
    "real_results = compute_diff_methylation(reconstructions_data['target'], idh_mut, idh_wt)\n",
    "wsi_results = compute_diff_methylation(reconstructions_data['wsi'], idh_mut, idh_wt)\n",
    "wsi_rna_results = compute_diff_methylation(reconstructions_data['rna'], idh_mut, idh_wt)\n",
    "wsi_cnv_results = compute_diff_methylation(reconstructions_data['cnv'], idh_mut, idh_wt)\n",
    "wsi_rna_cnv_results = compute_diff_methylation(reconstructions_data['rna-cnv'], idh_mut, idh_wt)"
   ]
  },
  {
   "cell_type": "code",
   "execution_count": 229,
   "id": "7de7a873-f0b0-472b-84e0-84f1f47a7bd4",
   "metadata": {},
   "outputs": [
    {
     "data": {
      "text/html": [
       "<div>\n",
       "<style scoped>\n",
       "    .dataframe tbody tr th:only-of-type {\n",
       "        vertical-align: middle;\n",
       "    }\n",
       "\n",
       "    .dataframe tbody tr th {\n",
       "        vertical-align: top;\n",
       "    }\n",
       "\n",
       "    .dataframe thead th {\n",
       "        text-align: right;\n",
       "    }\n",
       "</style>\n",
       "<table border=\"1\" class=\"dataframe\">\n",
       "  <thead>\n",
       "    <tr style=\"text-align: right;\">\n",
       "      <th></th>\n",
       "      <th>site</th>\n",
       "      <th>delta_beta</th>\n",
       "      <th>pval</th>\n",
       "    </tr>\n",
       "  </thead>\n",
       "  <tbody>\n",
       "    <tr>\n",
       "      <th>0</th>\n",
       "      <td>cg00000292</td>\n",
       "      <td>0.269000</td>\n",
       "      <td>3.351102e-21</td>\n",
       "    </tr>\n",
       "    <tr>\n",
       "      <th>1</th>\n",
       "      <td>cg00002426</td>\n",
       "      <td>0.455891</td>\n",
       "      <td>4.943936e-30</td>\n",
       "    </tr>\n",
       "    <tr>\n",
       "      <th>2</th>\n",
       "      <td>cg00013618</td>\n",
       "      <td>0.058885</td>\n",
       "      <td>1.593551e-07</td>\n",
       "    </tr>\n",
       "    <tr>\n",
       "      <th>3</th>\n",
       "      <td>cg00015770</td>\n",
       "      <td>-0.021044</td>\n",
       "      <td>4.355997e-01</td>\n",
       "    </tr>\n",
       "    <tr>\n",
       "      <th>4</th>\n",
       "      <td>cg00016968</td>\n",
       "      <td>0.083759</td>\n",
       "      <td>6.548349e-12</td>\n",
       "    </tr>\n",
       "    <tr>\n",
       "      <th>...</th>\n",
       "      <td>...</td>\n",
       "      <td>...</td>\n",
       "      <td>...</td>\n",
       "    </tr>\n",
       "    <tr>\n",
       "      <th>7145</th>\n",
       "      <td>cg27637521</td>\n",
       "      <td>0.284051</td>\n",
       "      <td>7.960508e-15</td>\n",
       "    </tr>\n",
       "    <tr>\n",
       "      <th>7146</th>\n",
       "      <td>cg27648946</td>\n",
       "      <td>0.360160</td>\n",
       "      <td>5.212418e-35</td>\n",
       "    </tr>\n",
       "    <tr>\n",
       "      <th>7147</th>\n",
       "      <td>cg27650175</td>\n",
       "      <td>0.010036</td>\n",
       "      <td>1.658667e-05</td>\n",
       "    </tr>\n",
       "    <tr>\n",
       "      <th>7148</th>\n",
       "      <td>cg27652350</td>\n",
       "      <td>0.124363</td>\n",
       "      <td>1.906764e-04</td>\n",
       "    </tr>\n",
       "    <tr>\n",
       "      <th>7149</th>\n",
       "      <td>cg27653134</td>\n",
       "      <td>0.113458</td>\n",
       "      <td>2.060924e-10</td>\n",
       "    </tr>\n",
       "  </tbody>\n",
       "</table>\n",
       "<p>7150 rows × 3 columns</p>\n",
       "</div>"
      ],
      "text/plain": [
       "            site  delta_beta          pval\n",
       "0     cg00000292    0.269000  3.351102e-21\n",
       "1     cg00002426    0.455891  4.943936e-30\n",
       "2     cg00013618    0.058885  1.593551e-07\n",
       "3     cg00015770   -0.021044  4.355997e-01\n",
       "4     cg00016968    0.083759  6.548349e-12\n",
       "...          ...         ...           ...\n",
       "7145  cg27637521    0.284051  7.960508e-15\n",
       "7146  cg27648946    0.360160  5.212418e-35\n",
       "7147  cg27650175    0.010036  1.658667e-05\n",
       "7148  cg27652350    0.124363  1.906764e-04\n",
       "7149  cg27653134    0.113458  2.060924e-10\n",
       "\n",
       "[7150 rows x 3 columns]"
      ]
     },
     "execution_count": 229,
     "metadata": {},
     "output_type": "execute_result"
    }
   ],
   "source": [
    "real_results"
   ]
  },
  {
   "cell_type": "code",
   "execution_count": 230,
   "id": "6a8565df-e97f-4827-801b-fe9fb8bf63ae",
   "metadata": {},
   "outputs": [],
   "source": [
    "hyper_real = set(real_results[(real_results['delta_beta'] > 0) & (real_results['pval'] < 0.1)]['site'])\n",
    "hypo_real  = set(real_results[(real_results['delta_beta'] < 0) & (real_results['pval'] < 0.1)]['site'])"
   ]
  },
  {
   "cell_type": "code",
   "execution_count": 231,
   "id": "70b6e1e4-1743-4a61-b8d6-ca117e35d20c",
   "metadata": {},
   "outputs": [],
   "source": [
    "hyper_wsi = set(wsi_results[(wsi_results['delta_beta'] > 0) & (wsi_results['pval'] < 0.1)]['site'])\n",
    "hypo_wsi  = set(wsi_results[(wsi_results['delta_beta'] < 0) & (wsi_results['pval'] < 0.1)]['site'])\n",
    "\n",
    "hyper_wsi_rna = set(wsi_rna_results[(wsi_rna_results['delta_beta'] > 0) & (wsi_rna_results['pval'] < 0.1)]['site'])\n",
    "hypo_wsi_rna  = set(wsi_rna_results[(wsi_rna_results['delta_beta'] < 0) & (wsi_rna_results['pval'] < 0.1)]['site'])\n",
    "\n",
    "hyper_wsi_cnv = set(wsi_cnv_results[(wsi_cnv_results['delta_beta'] > 0) & (wsi_cnv_results['pval'] < 0.1)]['site'])\n",
    "hypo_wsi_cnv = set(wsi_cnv_results[(wsi_cnv_results['delta_beta'] < 0) & (wsi_cnv_results['pval'] < 0.1)]['site'])\n",
    "\n",
    "hyper_wsi_rna_cnv = set(wsi_rna_cnv_results[(wsi_rna_cnv_results['delta_beta'] > 0) & (wsi_rna_cnv_results['pval'] < 0.1)]['site'])\n",
    "hypo_wsi_rna_cnv = set(wsi_rna_cnv_results[(wsi_rna_cnv_results['delta_beta'] < 0) & (wsi_rna_cnv_results['pval'] < 0.1)]['site'])"
   ]
  },
  {
   "cell_type": "code",
   "execution_count": 232,
   "id": "ad2663c9-2ebd-4fd0-905b-37daf348703f",
   "metadata": {},
   "outputs": [
    {
     "name": "stdout",
     "output_type": "stream",
     "text": [
      "Accuracy: 0.9733\n"
     ]
    }
   ],
   "source": [
    "TP = len(hyper_real & hyper_wsi)\n",
    "TN = len(hypo_real & hypo_wsi)\n",
    "FP = len(hypo_real & hyper_wsi)\n",
    "FN = len(hyper_real & hypo_wsi)\n",
    "\n",
    "# Accuracy\n",
    "accuracy = (TP + TN) / (TP + TN + FP + FN)\n",
    "print(f\"Accuracy: {accuracy:.4f}\")"
   ]
  },
  {
   "cell_type": "code",
   "execution_count": 233,
   "id": "1a465a1b-6421-4052-bf2b-cef02e7b1a40",
   "metadata": {},
   "outputs": [
    {
     "name": "stdout",
     "output_type": "stream",
     "text": [
      "Accuracy: 0.9820\n"
     ]
    }
   ],
   "source": [
    "TP = len(hyper_real & hyper_wsi_rna)\n",
    "TN = len(hypo_real & hypo_wsi_rna)\n",
    "FP = len(hypo_real & hyper_wsi_rna)\n",
    "FN = len(hyper_real & hypo_wsi_rna)\n",
    "\n",
    "# Accuracy\n",
    "accuracy = (TP + TN) / (TP + TN + FP + FN)\n",
    "print(f\"Accuracy: {accuracy:.4f}\")"
   ]
  },
  {
   "cell_type": "code",
   "execution_count": 234,
   "id": "20b346fe-50f0-49da-aa20-9e4b96986bfe",
   "metadata": {},
   "outputs": [
    {
     "name": "stdout",
     "output_type": "stream",
     "text": [
      "Accuracy: 0.9774\n"
     ]
    }
   ],
   "source": [
    "TP = len(hyper_real & hyper_wsi_cnv)\n",
    "TN = len(hypo_real & hypo_wsi_cnv)\n",
    "FP = len(hypo_real & hyper_wsi_cnv)\n",
    "FN = len(hyper_real & hypo_wsi_cnv)\n",
    "\n",
    "# Accuracy\n",
    "accuracy = (TP + TN) / (TP + TN + FP + FN)\n",
    "print(f\"Accuracy: {accuracy:.4f}\")"
   ]
  },
  {
   "cell_type": "code",
   "execution_count": 235,
   "id": "c43b975d-0510-4f74-95f6-f1dee7d9b7bc",
   "metadata": {},
   "outputs": [
    {
     "name": "stdout",
     "output_type": "stream",
     "text": [
      "Accuracy: 0.9808\n"
     ]
    }
   ],
   "source": [
    "TP = len(hyper_real & hyper_wsi_rna_cnv)\n",
    "TN = len(hypo_real & hypo_wsi_rna_cnv)\n",
    "FP = len(hypo_real & hyper_wsi_rna_cnv)\n",
    "FN = len(hyper_real & hypo_wsi_rna_cnv)\n",
    "\n",
    "# Accuracy\n",
    "accuracy = (TP + TN) / (TP + TN + FP + FN)\n",
    "print(f\"Accuracy: {accuracy:.4f}\")"
   ]
  },
  {
   "cell_type": "code",
   "execution_count": null,
   "id": "b84a03c6-03a3-48bf-ab45-e0faa5d45c29",
   "metadata": {},
   "outputs": [],
   "source": []
  },
  {
   "cell_type": "code",
   "execution_count": null,
   "id": "56f72f13-82b9-4fd4-bdec-b42afb53a994",
   "metadata": {},
   "outputs": [],
   "source": []
  }
 ],
 "metadata": {
  "kernelspec": {
   "display_name": "Python 3 (ipykernel)",
   "language": "python",
   "name": "python3"
  },
  "language_info": {
   "codemirror_mode": {
    "name": "ipython",
    "version": 3
   },
   "file_extension": ".py",
   "mimetype": "text/x-python",
   "name": "python",
   "nbconvert_exporter": "python",
   "pygments_lexer": "ipython3",
   "version": "3.10.16"
  }
 },
 "nbformat": 4,
 "nbformat_minor": 5
}
